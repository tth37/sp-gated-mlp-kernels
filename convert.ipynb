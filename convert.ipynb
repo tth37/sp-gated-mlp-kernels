{
 "cells": [
  {
   "cell_type": "code",
   "execution_count": 7,
   "metadata": {},
   "outputs": [
    {
     "data": {
      "text/plain": [
       "[tensor([0, 1, 2, 3, 4], device='cuda:0', dtype=torch.int32),\n",
       " tensor([0, 0, 0, 0], device='cuda:0', dtype=torch.int32),\n",
       " tensor([0, 1, 2, 3], device='cuda:0', dtype=torch.int32),\n",
       " tensor([[ 1.,  2.,  0.,  4.],\n",
       "         [ 0.,  0.,  0.,  0.],\n",
       "         [ 9.,  0.,  0., 12.],\n",
       "         [13.,  0.,  0., 16.]], device='cuda:0'),\n",
       " tensor([0, 1, 2, 3], device='cuda:0', dtype=torch.int32)]"
      ]
     },
     "execution_count": 7,
     "metadata": {},
     "output_type": "execute_result"
    }
   ],
   "source": [
    "import torch\n",
    "import convert_bcsr_ext\n",
    "\n",
    "a = torch.tensor([\n",
    "    [1, 2, 0, 4],\n",
    "    [0, 0, 0, 0],\n",
    "    [9, 0, 0, 12],\n",
    "    [13, 0, 0, 16],\n",
    "], dtype=torch.float32, device='cuda')\n",
    "mask = torch.tensor([\n",
    "    [0, 0, 0, 0],\n",
    "    [0, 0, 0, 0],\n",
    "    [0, 1, 1, 1],\n",
    "    [0, 0, 0, 0],\n",
    "], dtype=torch.int32, device='cuda')\n",
    "\n",
    "bcsr = convert_bcsr_ext.forward(mask, a, 1, 4)\n",
    "bcsr\n"
   ]
  }
 ],
 "metadata": {
  "kernelspec": {
   "display_name": "base",
   "language": "python",
   "name": "python3"
  },
  "language_info": {
   "codemirror_mode": {
    "name": "ipython",
    "version": 3
   },
   "file_extension": ".py",
   "mimetype": "text/x-python",
   "name": "python",
   "nbconvert_exporter": "python",
   "pygments_lexer": "ipython3",
   "version": "3.12.4"
  }
 },
 "nbformat": 4,
 "nbformat_minor": 2
}
