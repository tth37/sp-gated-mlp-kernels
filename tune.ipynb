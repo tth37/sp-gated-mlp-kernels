{
 "cells": [
  {
   "cell_type": "code",
   "execution_count": 1,
   "metadata": {},
   "outputs": [],
   "source": [
    "from sparsemm_kernels.autotune import autotune\n",
    "from sparsemm_kernels.up_dejavu import bench_sparsemm_up_dejavu\n",
    "from sparsemm_kernels.up_neo import bench_sparsemm_up_neo\n",
    "from sparsemm_kernels.up_dense import bench_sparsemm_up_dense\n",
    "from sparsemm_kernels.up_cats import bench_sparsemm_up_cats\n",
    "from sparsemm_kernels.down_dense import bench_sparsemm_down_dense\n",
    "\n",
    "BATCH_SIZE = 512\n",
    "EMBED_DIM = 5120\n",
    "HIDDEN_DIM = 13824\n",
    "P = 1\n",
    "Q = 10000"
   ]
  },
  {
   "cell_type": "code",
   "execution_count": null,
   "metadata": {},
   "outputs": [],
   "source": [
    "bench_sparsemm_up_dense(BATCH_SIZE, EMBED_DIM, HIDDEN_DIM, P, Q)"
   ]
  },
  {
   "cell_type": "code",
   "execution_count": null,
   "metadata": {},
   "outputs": [],
   "source": [
    "autotune(\n",
    "    bench_sparsemm_up_dejavu,\n",
    "    (BATCH_SIZE, EMBED_DIM, HIDDEN_DIM, P, Q),\n",
    "    {\n",
    "        \"BLOCK_SIZE_M\": [16, 32, 64, 128, 256],\n",
    "        \"BLOCK_SIZE_K\": [16, 32, 64, 128, 256],\n",
    "        \"BLOCK_SIZE_Q\": [16, 32, 64, 128, 256],\n",
    "        \"num_stages\": [2, 3, 4, 5],\n",
    "        \"num_warps\": [4, 8],\n",
    "    },\n",
    "    n_trials=100\n",
    ")"
   ]
  },
  {
   "cell_type": "code",
   "execution_count": null,
   "metadata": {},
   "outputs": [],
   "source": [
    "autotune(\n",
    "    bench_sparsemm_up_neo,\n",
    "    (BATCH_SIZE, EMBED_DIM, HIDDEN_DIM, P, Q),\n",
    "    {\n",
    "        \"BLOCK_SIZE_M\": [16, 32, 64, 128, 256],\n",
    "        \"BLOCK_SIZE_K\": [16, 32, 64, 128, 256],\n",
    "        \"BLOCK_SIZE_Q\": [16, 32, 64, 128, 256],\n",
    "        \"GROUP_SIZE_Q\": [1, 2, 4, 8, 16],\n",
    "        \"num_stages\": [2, 3, 4, 5],\n",
    "        \"num_warps\": [4, 8],\n",
    "    },\n",
    "    n_trials=100\n",
    ")"
   ]
  },
  {
   "cell_type": "code",
   "execution_count": null,
   "metadata": {},
   "outputs": [],
   "source": [
    "autotune(\n",
    "    bench_sparsemm_up_cats,\n",
    "    (BATCH_SIZE, EMBED_DIM, HIDDEN_DIM, P, Q),\n",
    "    {\n",
    "        \"BLOCK_SIZE_M\": [16, 32, 64, 128, 256],\n",
    "        \"BLOCK_SIZE_K\": [16, 32, 64, 128, 256],\n",
    "        \"BLOCK_SIZE_N\": [16, 32, 64, 128, 256],\n",
    "        \"GROUP_SIZE_N\": [1, 2, 4, 8, 16],\n",
    "        \"num_stages\": [2, 3, 4, 5],\n",
    "        \"num_warps\": [4, 8],\n",
    "    },\n",
    "    n_trials=100\n",
    ")"
   ]
  },
  {
   "cell_type": "code",
   "execution_count": null,
   "metadata": {},
   "outputs": [],
   "source": [
    "bench_sparsemm_down_dense(BATCH_SIZE, EMBED_DIM, HIDDEN_DIM, P, Q)"
   ]
  },
  {
   "cell_type": "code",
   "execution_count": null,
   "metadata": {},
   "outputs": [],
   "source": [
    "from sparsemm_kernels.down_dejavu import bench_sparsemm_down_dejavu\n",
    "\n",
    "autotune(\n",
    "    bench_sparsemm_down_dejavu,\n",
    "    (BATCH_SIZE, EMBED_DIM, HIDDEN_DIM, P, Q),\n",
    "    {\n",
    "        \"BLOCK_SIZE_M\": [16, 32, 64, 128, 256],\n",
    "        \"BLOCK_SIZE_Q\": [16, 32, 64, 128, 256],\n",
    "        \"BLOCK_SIZE_N\": [16, 32, 64, 128, 256],\n",
    "        \"num_stages\": [2, 3, 4, 5],\n",
    "        \"num_warps\": [4, 8],\n",
    "    },\n",
    "    n_trials=100\n",
    ")"
   ]
  },
  {
   "cell_type": "code",
   "execution_count": null,
   "metadata": {},
   "outputs": [],
   "source": [
    "from sparsemm_kernels.down_neo import bench_sparsemm_down_neo\n",
    "\n",
    "autotune(\n",
    "    bench_sparsemm_down_neo,\n",
    "    (BATCH_SIZE, EMBED_DIM, HIDDEN_DIM, P, Q),\n",
    "    {\n",
    "        \"BLOCK_SIZE_M\": [16, 32, 64, 128, 256],\n",
    "        \"BLOCK_SIZE_Q\": [16, 32, 64, 128, 256],\n",
    "        \"BLOCK_SIZE_N\": [16, 32, 64, 128, 256],\n",
    "        \"GROUP_SIZE_N\": [1, 2, 4, 8, 16],\n",
    "        \"num_stages\": [2, 3, 4, 5],\n",
    "        \"num_warps\": [4, 8],\n",
    "    },\n",
    "    n_trials=100\n",
    ")"
   ]
  }
 ],
 "metadata": {
  "kernelspec": {
   "display_name": "base",
   "language": "python",
   "name": "python3"
  },
  "language_info": {
   "codemirror_mode": {
    "name": "ipython",
    "version": 3
   },
   "file_extension": ".py",
   "mimetype": "text/x-python",
   "name": "python",
   "nbconvert_exporter": "python",
   "pygments_lexer": "ipython3",
   "version": "3.12.4"
  }
 },
 "nbformat": 4,
 "nbformat_minor": 2
}
