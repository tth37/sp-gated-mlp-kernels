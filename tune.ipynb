{
 "cells": [
  {
   "cell_type": "code",
   "execution_count": 1,
   "metadata": {},
   "outputs": [],
   "source": [
    "from sparsemm_kernels.autotune import autotune\n",
    "from sparsemm_kernels.up_dejavu import bench_sparsemm_up_dejavu\n",
    "from sparsemm_kernels.up_neo import bench_sparsemm_up_neo\n",
    "from sparsemm_kernels.up_dense import bench_sparsemm_up_dense\n",
    "from sparsemm_kernels.up_cats import bench_sparsemm_up_cats\n",
    "from sparsemm_kernels.down_dense import bench_sparsemm_down_dense\n",
    "\n",
    "import torch\n",
    "import triton\n",
    "\n",
    "BATCH_SIZE = 512\n",
    "EMBED_DIM = 5120\n",
    "HIDDEN_DIM = 13824\n",
    "P = 1\n",
    "Q = 10000"
   ]
  },
  {
   "cell_type": "code",
   "execution_count": 33,
   "metadata": {},
   "outputs": [
    {
     "name": "stdout",
     "output_type": "stream",
     "text": [
      "True\n",
      "False\n"
     ]
    }
   ],
   "source": [
    "from sparsemm_kernels.gemm_bcsr import sparsemm_gemm_bcsr\n",
    "\n",
    "A = torch.empty(128, 5120, dtype=torch.float16, device='cuda')\n",
    "B = torch.empty(5120, 13824, dtype=torch.float16, device='cuda')\n",
    "\n",
    "# randomly zero out 99% of A\n",
    "mask = torch.rand_like(A) > 0.01\n",
    "A = A * mask\n",
    "\n",
    "# print(A)\n",
    "\n",
    "# xavier initialization\n",
    "torch.nn.init.xavier_uniform_(A)\n",
    "torch.nn.init.xavier_uniform_(B)\n",
    "\n",
    "C = sparsemm_gemm_bcsr(A, B)\n",
    "C_ref = torch.matmul(A, B)\n",
    "Zeros = torch.zeros_like(C)\n",
    "\n",
    "print(torch.allclose(C, C_ref, atol=1e-3))\n",
    "print(torch.allclose(Zeros, C_ref, atol=1e-3))"
   ]
  },
  {
   "cell_type": "code",
   "execution_count": 34,
   "metadata": {},
   "outputs": [
    {
     "name": "stderr",
     "output_type": "stream",
     "text": [
      "[I 2024-11-14 01:11:12,433] A new study created in memory with name: no-name-04e589d6-d8e9-4c54-b34a-565fdfeddbcd\n",
      "[I 2024-11-14 01:11:13,348] Trial 0 finished with value: 3.2147912979125977 and parameters: {'BLOCK_SIZE_M': 16, 'BLOCK_SIZE_N': 32, 'BLOCK_SIZE_K': 128, 'GROUP_SIZE_N': 4, 'num_stages': 3, 'num_warps': 4}. Best is trial 0 with value: 3.2147912979125977.\n",
      "[I 2024-11-14 01:11:14,235] Trial 1 finished with value: 2.9501442909240723 and parameters: {'BLOCK_SIZE_M': 16, 'BLOCK_SIZE_N': 16, 'BLOCK_SIZE_K': 32, 'GROUP_SIZE_N': 1, 'num_stages': 5, 'num_warps': 4}. Best is trial 1 with value: 2.9501442909240723.\n",
      "[I 2024-11-14 01:11:15,033] Trial 2 finished with value: 1.311458706855774 and parameters: {'BLOCK_SIZE_M': 16, 'BLOCK_SIZE_N': 128, 'BLOCK_SIZE_K': 32, 'GROUP_SIZE_N': 8, 'num_stages': 5, 'num_warps': 4}. Best is trial 2 with value: 1.311458706855774.\n",
      "loc(\"/home/tianhaodong/repo/sp-gated-mlp-kernels/sparsemm_kernels/gemm_bcsr.py\":67:27): error: operation scheduled before its operands\n",
      "[I 2024-11-14 01:11:15,496] Trial 3 finished with value: 5.4151530265808105 and parameters: {'BLOCK_SIZE_M': 16, 'BLOCK_SIZE_N': 32, 'BLOCK_SIZE_K': 16, 'GROUP_SIZE_N': 8, 'num_stages': 2, 'num_warps': 8}. Best is trial 2 with value: 1.311458706855774.\n",
      "[I 2024-11-14 01:11:16,158] Trial 4 finished with value: 1.4955178499221802 and parameters: {'BLOCK_SIZE_M': 16, 'BLOCK_SIZE_N': 128, 'BLOCK_SIZE_K': 64, 'GROUP_SIZE_N': 8, 'num_stages': 3, 'num_warps': 4}. Best is trial 2 with value: 1.311458706855774.\n",
      "[I 2024-11-14 01:11:16,757] Trial 5 finished with value: 2.7388479709625244 and parameters: {'BLOCK_SIZE_M': 16, 'BLOCK_SIZE_N': 32, 'BLOCK_SIZE_K': 32, 'GROUP_SIZE_N': 1, 'num_stages': 5, 'num_warps': 8}. Best is trial 2 with value: 1.311458706855774.\n",
      "[I 2024-11-14 01:11:17,278] Trial 6 finished with value: 1.3701297044754028 and parameters: {'BLOCK_SIZE_M': 16, 'BLOCK_SIZE_N': 64, 'BLOCK_SIZE_K': 64, 'GROUP_SIZE_N': 8, 'num_stages': 4, 'num_warps': 8}. Best is trial 2 with value: 1.311458706855774.\n",
      "[I 2024-11-14 01:11:18,784] Trial 7 finished with value: inf and parameters: {'BLOCK_SIZE_M': 16, 'BLOCK_SIZE_N': 128, 'BLOCK_SIZE_K': 256, 'GROUP_SIZE_N': 8, 'num_stages': 4, 'num_warps': 4}. Best is trial 2 with value: 1.311458706855774.\n"
     ]
    },
    {
     "name": "stdout",
     "output_type": "stream",
     "text": [
      "out of resource: shared memory, Required: 152064, Hardware limit: 101376. Reducing block sizes or `num_stages` may help.\n"
     ]
    },
    {
     "name": "stderr",
     "output_type": "stream",
     "text": [
      "[I 2024-11-14 01:11:19,310] Trial 8 finished with value: 4.029067516326904 and parameters: {'BLOCK_SIZE_M': 16, 'BLOCK_SIZE_N': 16, 'BLOCK_SIZE_K': 64, 'GROUP_SIZE_N': 1, 'num_stages': 5, 'num_warps': 8}. Best is trial 2 with value: 1.311458706855774.\n",
      "[I 2024-11-14 01:11:19,803] Trial 9 finished with value: 1.4850794076919556 and parameters: {'BLOCK_SIZE_M': 16, 'BLOCK_SIZE_N': 64, 'BLOCK_SIZE_K': 16, 'GROUP_SIZE_N': 8, 'num_stages': 4, 'num_warps': 4}. Best is trial 2 with value: 1.311458706855774.\n",
      "[I 2024-11-14 01:11:19,941] Trial 10 finished with value: 1.3935598134994507 and parameters: {'BLOCK_SIZE_M': 16, 'BLOCK_SIZE_N': 256, 'BLOCK_SIZE_K': 32, 'GROUP_SIZE_N': 2, 'num_stages': 2, 'num_warps': 4}. Best is trial 2 with value: 1.311458706855774.\n",
      "[I 2024-11-14 01:11:20,079] Trial 11 finished with value: 1.3689515590667725 and parameters: {'BLOCK_SIZE_M': 16, 'BLOCK_SIZE_N': 64, 'BLOCK_SIZE_K': 64, 'GROUP_SIZE_N': 8, 'num_stages': 4, 'num_warps': 8}. Best is trial 2 with value: 1.311458706855774.\n",
      "[I 2024-11-14 01:11:20,734] Trial 12 finished with value: 1.3407162427902222 and parameters: {'BLOCK_SIZE_M': 16, 'BLOCK_SIZE_N': 64, 'BLOCK_SIZE_K': 128, 'GROUP_SIZE_N': 4, 'num_stages': 5, 'num_warps': 8}. Best is trial 2 with value: 1.311458706855774.\n",
      "[I 2024-11-14 01:11:21,800] Trial 13 finished with value: 2.014702796936035 and parameters: {'BLOCK_SIZE_M': 16, 'BLOCK_SIZE_N': 128, 'BLOCK_SIZE_K': 128, 'GROUP_SIZE_N': 4, 'num_stages': 5, 'num_warps': 8}. Best is trial 2 with value: 1.311458706855774.\n",
      "[I 2024-11-14 01:11:23,646] Trial 14 finished with value: inf and parameters: {'BLOCK_SIZE_M': 16, 'BLOCK_SIZE_N': 256, 'BLOCK_SIZE_K': 128, 'GROUP_SIZE_N': 4, 'num_stages': 5, 'num_warps': 4}. Best is trial 2 with value: 1.311458706855774.\n"
     ]
    },
    {
     "name": "stdout",
     "output_type": "stream",
     "text": [
      "out of resource: shared memory, Required: 141824, Hardware limit: 101376. Reducing block sizes or `num_stages` may help.\n"
     ]
    },
    {
     "name": "stderr",
     "output_type": "stream",
     "text": [
      "[I 2024-11-14 01:11:25,185] Trial 15 finished with value: inf and parameters: {'BLOCK_SIZE_M': 16, 'BLOCK_SIZE_N': 128, 'BLOCK_SIZE_K': 256, 'GROUP_SIZE_N': 2, 'num_stages': 5, 'num_warps': 8}. Best is trial 2 with value: 1.311458706855774.\n"
     ]
    },
    {
     "name": "stdout",
     "output_type": "stream",
     "text": [
      "out of resource: shared memory, Required: 152576, Hardware limit: 101376. Reducing block sizes or `num_stages` may help.\n"
     ]
    },
    {
     "name": "stderr",
     "output_type": "stream",
     "text": [
      "[I 2024-11-14 01:11:26,160] Trial 16 finished with value: 1.9870343208312988 and parameters: {'BLOCK_SIZE_M': 16, 'BLOCK_SIZE_N': 64, 'BLOCK_SIZE_K': 128, 'GROUP_SIZE_N': 4, 'num_stages': 5, 'num_warps': 4}. Best is trial 2 with value: 1.311458706855774.\n",
      "[I 2024-11-14 01:11:26,954] Trial 17 finished with value: 1.664522409439087 and parameters: {'BLOCK_SIZE_M': 16, 'BLOCK_SIZE_N': 64, 'BLOCK_SIZE_K': 32, 'GROUP_SIZE_N': 4, 'num_stages': 5, 'num_warps': 8}. Best is trial 2 with value: 1.311458706855774.\n",
      "loc(\"/home/tianhaodong/repo/sp-gated-mlp-kernels/sparsemm_kernels/gemm_bcsr.py\":67:27): error: operation scheduled before its operands\n",
      "[I 2024-11-14 01:11:27,546] Trial 18 finished with value: 2.423454523086548 and parameters: {'BLOCK_SIZE_M': 16, 'BLOCK_SIZE_N': 128, 'BLOCK_SIZE_K': 32, 'GROUP_SIZE_N': 2, 'num_stages': 2, 'num_warps': 8}. Best is trial 2 with value: 1.311458706855774.\n",
      "[I 2024-11-14 01:11:28,236] Trial 19 finished with value: 2.394087553024292 and parameters: {'BLOCK_SIZE_M': 16, 'BLOCK_SIZE_N': 16, 'BLOCK_SIZE_K': 128, 'GROUP_SIZE_N': 4, 'num_stages': 3, 'num_warps': 4}. Best is trial 2 with value: 1.311458706855774.\n",
      "[I 2024-11-14 01:11:28,899] Trial 20 finished with value: 1.2307829856872559 and parameters: {'BLOCK_SIZE_M': 16, 'BLOCK_SIZE_N': 256, 'BLOCK_SIZE_K': 16, 'GROUP_SIZE_N': 8, 'num_stages': 5, 'num_warps': 4}. Best is trial 20 with value: 1.2307829856872559.\n",
      "[I 2024-11-14 01:11:29,029] Trial 21 finished with value: 1.2252075672149658 and parameters: {'BLOCK_SIZE_M': 16, 'BLOCK_SIZE_N': 256, 'BLOCK_SIZE_K': 16, 'GROUP_SIZE_N': 8, 'num_stages': 5, 'num_warps': 4}. Best is trial 21 with value: 1.2252075672149658.\n",
      "[I 2024-11-14 01:11:29,165] Trial 22 finished with value: 1.2309110164642334 and parameters: {'BLOCK_SIZE_M': 16, 'BLOCK_SIZE_N': 256, 'BLOCK_SIZE_K': 16, 'GROUP_SIZE_N': 8, 'num_stages': 5, 'num_warps': 4}. Best is trial 21 with value: 1.2252075672149658.\n",
      "[I 2024-11-14 01:11:29,304] Trial 23 finished with value: 1.298269510269165 and parameters: {'BLOCK_SIZE_M': 16, 'BLOCK_SIZE_N': 256, 'BLOCK_SIZE_K': 16, 'GROUP_SIZE_N': 8, 'num_stages': 5, 'num_warps': 4}. Best is trial 21 with value: 1.2252075672149658.\n",
      "[I 2024-11-14 01:11:29,433] Trial 24 finished with value: 1.2248382568359375 and parameters: {'BLOCK_SIZE_M': 16, 'BLOCK_SIZE_N': 256, 'BLOCK_SIZE_K': 16, 'GROUP_SIZE_N': 8, 'num_stages': 5, 'num_warps': 4}. Best is trial 24 with value: 1.2248382568359375.\n",
      "[I 2024-11-14 01:11:29,573] Trial 25 finished with value: 1.2681846618652344 and parameters: {'BLOCK_SIZE_M': 16, 'BLOCK_SIZE_N': 256, 'BLOCK_SIZE_K': 16, 'GROUP_SIZE_N': 8, 'num_stages': 5, 'num_warps': 4}. Best is trial 24 with value: 1.2248382568359375.\n",
      "[I 2024-11-14 01:11:29,709] Trial 26 finished with value: 1.2377325296401978 and parameters: {'BLOCK_SIZE_M': 16, 'BLOCK_SIZE_N': 256, 'BLOCK_SIZE_K': 16, 'GROUP_SIZE_N': 8, 'num_stages': 5, 'num_warps': 4}. Best is trial 24 with value: 1.2248382568359375.\n",
      "[I 2024-11-14 01:11:29,847] Trial 27 finished with value: 1.3788514137268066 and parameters: {'BLOCK_SIZE_M': 16, 'BLOCK_SIZE_N': 256, 'BLOCK_SIZE_K': 16, 'GROUP_SIZE_N': 8, 'num_stages': 3, 'num_warps': 4}. Best is trial 24 with value: 1.2248382568359375.\n",
      "[I 2024-11-14 01:11:29,986] Trial 28 finished with value: 1.5743998289108276 and parameters: {'BLOCK_SIZE_M': 16, 'BLOCK_SIZE_N': 256, 'BLOCK_SIZE_K': 16, 'GROUP_SIZE_N': 8, 'num_stages': 2, 'num_warps': 4}. Best is trial 24 with value: 1.2248382568359375.\n",
      "[I 2024-11-14 01:11:30,123] Trial 29 finished with value: 1.382590889930725 and parameters: {'BLOCK_SIZE_M': 16, 'BLOCK_SIZE_N': 256, 'BLOCK_SIZE_K': 16, 'GROUP_SIZE_N': 8, 'num_stages': 3, 'num_warps': 4}. Best is trial 24 with value: 1.2248382568359375.\n",
      "[I 2024-11-14 01:11:30,259] Trial 30 finished with value: 1.2308323383331299 and parameters: {'BLOCK_SIZE_M': 16, 'BLOCK_SIZE_N': 256, 'BLOCK_SIZE_K': 16, 'GROUP_SIZE_N': 2, 'num_stages': 5, 'num_warps': 4}. Best is trial 24 with value: 1.2248382568359375.\n",
      "[I 2024-11-14 01:11:30,395] Trial 31 finished with value: 1.2326438426971436 and parameters: {'BLOCK_SIZE_M': 16, 'BLOCK_SIZE_N': 256, 'BLOCK_SIZE_K': 16, 'GROUP_SIZE_N': 2, 'num_stages': 5, 'num_warps': 4}. Best is trial 24 with value: 1.2248382568359375.\n",
      "[I 2024-11-14 01:11:30,533] Trial 32 finished with value: 1.2359365224838257 and parameters: {'BLOCK_SIZE_M': 16, 'BLOCK_SIZE_N': 256, 'BLOCK_SIZE_K': 16, 'GROUP_SIZE_N': 2, 'num_stages': 5, 'num_warps': 4}. Best is trial 24 with value: 1.2248382568359375.\n",
      "[I 2024-11-14 01:11:30,670] Trial 33 finished with value: 1.2391188144683838 and parameters: {'BLOCK_SIZE_M': 16, 'BLOCK_SIZE_N': 256, 'BLOCK_SIZE_K': 16, 'GROUP_SIZE_N': 2, 'num_stages': 5, 'num_warps': 4}. Best is trial 24 with value: 1.2248382568359375.\n",
      "[I 2024-11-14 01:11:31,321] Trial 34 finished with value: 3.2515804767608643 and parameters: {'BLOCK_SIZE_M': 16, 'BLOCK_SIZE_N': 32, 'BLOCK_SIZE_K': 16, 'GROUP_SIZE_N': 1, 'num_stages': 5, 'num_warps': 4}. Best is trial 24 with value: 1.2248382568359375.\n",
      "[I 2024-11-14 01:11:31,344] Trial 35 finished with value: inf and parameters: {'BLOCK_SIZE_M': 16, 'BLOCK_SIZE_N': 256, 'BLOCK_SIZE_K': 256, 'GROUP_SIZE_N': 2, 'num_stages': 5, 'num_warps': 4}. Best is trial 24 with value: 1.2248382568359375.\n",
      "[I 2024-11-14 01:11:31,467] Trial 36 finished with value: 2.8066611289978027 and parameters: {'BLOCK_SIZE_M': 16, 'BLOCK_SIZE_N': 256, 'BLOCK_SIZE_K': 16, 'GROUP_SIZE_N': 8, 'num_stages': 5, 'num_warps': 4}. Best is trial 24 with value: 1.2248382568359375.\n"
     ]
    },
    {
     "name": "stdout",
     "output_type": "stream",
     "text": [
      "out of resource: shared memory, Required: 283136, Hardware limit: 101376. Reducing block sizes or `num_stages` may help.\n"
     ]
    },
    {
     "name": "stderr",
     "output_type": "stream",
     "text": [
      "loc(\"/home/tianhaodong/repo/sp-gated-mlp-kernels/sparsemm_kernels/gemm_bcsr.py\":67:27): error: operation scheduled before its operands\n",
      "[I 2024-11-14 01:11:32,075] Trial 37 finished with value: 7.933469772338867 and parameters: {'BLOCK_SIZE_M': 16, 'BLOCK_SIZE_N': 16, 'BLOCK_SIZE_K': 16, 'GROUP_SIZE_N': 1, 'num_stages': 2, 'num_warps': 4}. Best is trial 24 with value: 1.2248382568359375.\n",
      "[I 2024-11-14 01:11:32,923] Trial 38 finished with value: 4.4668869972229 and parameters: {'BLOCK_SIZE_M': 16, 'BLOCK_SIZE_N': 32, 'BLOCK_SIZE_K': 16, 'GROUP_SIZE_N': 8, 'num_stages': 5, 'num_warps': 4}. Best is trial 24 with value: 1.2248382568359375.\n",
      "[I 2024-11-14 01:11:33,716] Trial 39 finished with value: 2.4029479026794434 and parameters: {'BLOCK_SIZE_M': 16, 'BLOCK_SIZE_N': 256, 'BLOCK_SIZE_K': 16, 'GROUP_SIZE_N': 8, 'num_stages': 4, 'num_warps': 4}. Best is trial 24 with value: 1.2248382568359375.\n",
      "[I 2024-11-14 01:11:33,750] Trial 40 finished with value: inf and parameters: {'BLOCK_SIZE_M': 16, 'BLOCK_SIZE_N': 256, 'BLOCK_SIZE_K': 256, 'GROUP_SIZE_N': 8, 'num_stages': 3, 'num_warps': 4}. Best is trial 24 with value: 1.2248382568359375.\n",
      "[I 2024-11-14 01:11:33,891] Trial 41 finished with value: 1.240064024925232 and parameters: {'BLOCK_SIZE_M': 16, 'BLOCK_SIZE_N': 256, 'BLOCK_SIZE_K': 16, 'GROUP_SIZE_N': 8, 'num_stages': 5, 'num_warps': 4}. Best is trial 24 with value: 1.2248382568359375.\n"
     ]
    },
    {
     "name": "stdout",
     "output_type": "stream",
     "text": [
      "out of resource: shared memory, Required: 141824, Hardware limit: 101376. Reducing block sizes or `num_stages` may help.\n"
     ]
    },
    {
     "name": "stderr",
     "output_type": "stream",
     "text": [
      "[I 2024-11-14 01:11:34,028] Trial 42 finished with value: 1.2569048404693604 and parameters: {'BLOCK_SIZE_M': 16, 'BLOCK_SIZE_N': 256, 'BLOCK_SIZE_K': 16, 'GROUP_SIZE_N': 8, 'num_stages': 5, 'num_warps': 4}. Best is trial 24 with value: 1.2248382568359375.\n",
      "[I 2024-11-14 01:11:35,424] Trial 43 finished with value: 2.5583717823028564 and parameters: {'BLOCK_SIZE_M': 16, 'BLOCK_SIZE_N': 256, 'BLOCK_SIZE_K': 64, 'GROUP_SIZE_N': 8, 'num_stages': 5, 'num_warps': 4}. Best is trial 24 with value: 1.2248382568359375.\n",
      "[I 2024-11-14 01:11:35,561] Trial 44 finished with value: 2.6114561557769775 and parameters: {'BLOCK_SIZE_M': 16, 'BLOCK_SIZE_N': 256, 'BLOCK_SIZE_K': 16, 'GROUP_SIZE_N': 8, 'num_stages': 5, 'num_warps': 4}. Best is trial 24 with value: 1.2248382568359375.\n",
      "[I 2024-11-14 01:11:35,739] Trial 45 finished with value: 4.720239162445068 and parameters: {'BLOCK_SIZE_M': 16, 'BLOCK_SIZE_N': 32, 'BLOCK_SIZE_K': 16, 'GROUP_SIZE_N': 1, 'num_stages': 5, 'num_warps': 4}. Best is trial 24 with value: 1.2248382568359375.\n",
      "[I 2024-11-14 01:11:36,348] Trial 46 finished with value: 4.341466903686523 and parameters: {'BLOCK_SIZE_M': 16, 'BLOCK_SIZE_N': 16, 'BLOCK_SIZE_K': 16, 'GROUP_SIZE_N': 8, 'num_stages': 4, 'num_warps': 4}. Best is trial 24 with value: 1.2248382568359375.\n",
      "[I 2024-11-14 01:11:36,485] Trial 47 finished with value: 1.288533329963684 and parameters: {'BLOCK_SIZE_M': 16, 'BLOCK_SIZE_N': 256, 'BLOCK_SIZE_K': 64, 'GROUP_SIZE_N': 2, 'num_stages': 5, 'num_warps': 4}. Best is trial 24 with value: 1.2248382568359375.\n",
      "[I 2024-11-14 01:11:36,621] Trial 48 finished with value: 1.2325809001922607 and parameters: {'BLOCK_SIZE_M': 16, 'BLOCK_SIZE_N': 256, 'BLOCK_SIZE_K': 16, 'GROUP_SIZE_N': 8, 'num_stages': 5, 'num_warps': 4}. Best is trial 24 with value: 1.2248382568359375.\n",
      "[I 2024-11-14 01:11:36,758] Trial 49 finished with value: 1.2176305055618286 and parameters: {'BLOCK_SIZE_M': 16, 'BLOCK_SIZE_N': 256, 'BLOCK_SIZE_K': 32, 'GROUP_SIZE_N': 8, 'num_stages': 5, 'num_warps': 4}. Best is trial 49 with value: 1.2176305055618286.\n",
      "[I 2024-11-14 01:11:36,897] Trial 50 finished with value: 1.4841965436935425 and parameters: {'BLOCK_SIZE_M': 16, 'BLOCK_SIZE_N': 128, 'BLOCK_SIZE_K': 32, 'GROUP_SIZE_N': 2, 'num_stages': 2, 'num_warps': 8}. Best is trial 49 with value: 1.2176305055618286.\n",
      "[I 2024-11-14 01:11:37,034] Trial 51 finished with value: 1.230211853981018 and parameters: {'BLOCK_SIZE_M': 16, 'BLOCK_SIZE_N': 256, 'BLOCK_SIZE_K': 32, 'GROUP_SIZE_N': 8, 'num_stages': 5, 'num_warps': 4}. Best is trial 49 with value: 1.2176305055618286.\n",
      "[I 2024-11-14 01:11:37,168] Trial 52 finished with value: 1.217803716659546 and parameters: {'BLOCK_SIZE_M': 16, 'BLOCK_SIZE_N': 256, 'BLOCK_SIZE_K': 32, 'GROUP_SIZE_N': 8, 'num_stages': 5, 'num_warps': 4}. Best is trial 49 with value: 1.2176305055618286.\n",
      "[I 2024-11-14 01:11:37,304] Trial 53 finished with value: 1.218001365661621 and parameters: {'BLOCK_SIZE_M': 16, 'BLOCK_SIZE_N': 256, 'BLOCK_SIZE_K': 32, 'GROUP_SIZE_N': 8, 'num_stages': 5, 'num_warps': 4}. Best is trial 49 with value: 1.2176305055618286.\n",
      "[I 2024-11-14 01:11:37,451] Trial 54 finished with value: 1.2168688774108887 and parameters: {'BLOCK_SIZE_M': 16, 'BLOCK_SIZE_N': 256, 'BLOCK_SIZE_K': 32, 'GROUP_SIZE_N': 8, 'num_stages': 5, 'num_warps': 4}. Best is trial 54 with value: 1.2168688774108887.\n",
      "[I 2024-11-14 01:11:37,652] Trial 55 finished with value: 2.2183830738067627 and parameters: {'BLOCK_SIZE_M': 16, 'BLOCK_SIZE_N': 64, 'BLOCK_SIZE_K': 32, 'GROUP_SIZE_N': 8, 'num_stages': 4, 'num_warps': 4}. Best is trial 54 with value: 1.2168688774108887.\n",
      "[I 2024-11-14 01:11:37,759] Trial 56 finished with value: 1.9208343029022217 and parameters: {'BLOCK_SIZE_M': 16, 'BLOCK_SIZE_N': 256, 'BLOCK_SIZE_K': 32, 'GROUP_SIZE_N': 8, 'num_stages': 5, 'num_warps': 4}. Best is trial 54 with value: 1.2168688774108887.\n",
      "[I 2024-11-14 01:11:38,303] Trial 57 finished with value: 5.065329551696777 and parameters: {'BLOCK_SIZE_M': 16, 'BLOCK_SIZE_N': 16, 'BLOCK_SIZE_K': 32, 'GROUP_SIZE_N': 8, 'num_stages': 5, 'num_warps': 8}. Best is trial 54 with value: 1.2168688774108887.\n",
      "[I 2024-11-14 01:11:38,439] Trial 58 finished with value: 1.223742961883545 and parameters: {'BLOCK_SIZE_M': 16, 'BLOCK_SIZE_N': 256, 'BLOCK_SIZE_K': 32, 'GROUP_SIZE_N': 8, 'num_stages': 5, 'num_warps': 4}. Best is trial 54 with value: 1.2168688774108887.\n",
      "[I 2024-11-14 01:11:38,578] Trial 59 finished with value: 1.2907838821411133 and parameters: {'BLOCK_SIZE_M': 16, 'BLOCK_SIZE_N': 128, 'BLOCK_SIZE_K': 32, 'GROUP_SIZE_N': 8, 'num_stages': 5, 'num_warps': 4}. Best is trial 54 with value: 1.2168688774108887.\n",
      "[I 2024-11-14 01:11:38,723] Trial 60 finished with value: 1.2674757242202759 and parameters: {'BLOCK_SIZE_M': 16, 'BLOCK_SIZE_N': 256, 'BLOCK_SIZE_K': 32, 'GROUP_SIZE_N': 4, 'num_stages': 3, 'num_warps': 4}. Best is trial 54 with value: 1.2168688774108887.\n",
      "[I 2024-11-14 01:11:38,860] Trial 61 finished with value: 1.224812626838684 and parameters: {'BLOCK_SIZE_M': 16, 'BLOCK_SIZE_N': 256, 'BLOCK_SIZE_K': 32, 'GROUP_SIZE_N': 8, 'num_stages': 5, 'num_warps': 4}. Best is trial 54 with value: 1.2168688774108887.\n",
      "[I 2024-11-14 01:11:38,997] Trial 62 finished with value: 1.229482650756836 and parameters: {'BLOCK_SIZE_M': 16, 'BLOCK_SIZE_N': 256, 'BLOCK_SIZE_K': 32, 'GROUP_SIZE_N': 8, 'num_stages': 5, 'num_warps': 4}. Best is trial 54 with value: 1.2168688774108887.\n",
      "[I 2024-11-14 01:11:39,136] Trial 63 finished with value: 1.2435858249664307 and parameters: {'BLOCK_SIZE_M': 16, 'BLOCK_SIZE_N': 256, 'BLOCK_SIZE_K': 32, 'GROUP_SIZE_N': 8, 'num_stages': 5, 'num_warps': 4}. Best is trial 54 with value: 1.2168688774108887.\n",
      "[I 2024-11-14 01:11:39,308] Trial 64 finished with value: 1.2242852449417114 and parameters: {'BLOCK_SIZE_M': 16, 'BLOCK_SIZE_N': 256, 'BLOCK_SIZE_K': 32, 'GROUP_SIZE_N': 8, 'num_stages': 5, 'num_warps': 4}. Best is trial 54 with value: 1.2168688774108887.\n",
      "[I 2024-11-14 01:11:39,447] Trial 65 finished with value: 1.2553309202194214 and parameters: {'BLOCK_SIZE_M': 16, 'BLOCK_SIZE_N': 256, 'BLOCK_SIZE_K': 32, 'GROUP_SIZE_N': 8, 'num_stages': 5, 'num_warps': 4}. Best is trial 54 with value: 1.2168688774108887.\n",
      "[I 2024-11-14 01:11:40,255] Trial 66 finished with value: 3.174128293991089 and parameters: {'BLOCK_SIZE_M': 16, 'BLOCK_SIZE_N': 64, 'BLOCK_SIZE_K': 32, 'GROUP_SIZE_N': 8, 'num_stages': 5, 'num_warps': 8}. Best is trial 54 with value: 1.2168688774108887.\n",
      "loc(\"/home/tianhaodong/repo/sp-gated-mlp-kernels/sparsemm_kernels/gemm_bcsr.py\":67:27): error: operation scheduled before its operands\n",
      "[I 2024-11-14 01:11:41,081] Trial 67 finished with value: 2.906221866607666 and parameters: {'BLOCK_SIZE_M': 16, 'BLOCK_SIZE_N': 256, 'BLOCK_SIZE_K': 32, 'GROUP_SIZE_N': 8, 'num_stages': 2, 'num_warps': 4}. Best is trial 54 with value: 1.2168688774108887.\n",
      "[I 2024-11-14 01:11:41,820] Trial 68 finished with value: 3.4633240699768066 and parameters: {'BLOCK_SIZE_M': 16, 'BLOCK_SIZE_N': 32, 'BLOCK_SIZE_K': 32, 'GROUP_SIZE_N': 1, 'num_stages': 5, 'num_warps': 4}. Best is trial 54 with value: 1.2168688774108887.\n",
      "[I 2024-11-14 01:11:41,961] Trial 69 finished with value: 3.041738986968994 and parameters: {'BLOCK_SIZE_M': 16, 'BLOCK_SIZE_N': 256, 'BLOCK_SIZE_K': 32, 'GROUP_SIZE_N': 8, 'num_stages': 5, 'num_warps': 4}. Best is trial 54 with value: 1.2168688774108887.\n",
      "[I 2024-11-14 01:11:43,000] Trial 70 finished with value: 2.7985920906066895 and parameters: {'BLOCK_SIZE_M': 16, 'BLOCK_SIZE_N': 256, 'BLOCK_SIZE_K': 32, 'GROUP_SIZE_N': 4, 'num_stages': 4, 'num_warps': 4}. Best is trial 54 with value: 1.2168688774108887.\n",
      "[I 2024-11-14 01:11:43,131] Trial 71 finished with value: 1.3129690885543823 and parameters: {'BLOCK_SIZE_M': 16, 'BLOCK_SIZE_N': 256, 'BLOCK_SIZE_K': 32, 'GROUP_SIZE_N': 8, 'num_stages': 5, 'num_warps': 4}. Best is trial 54 with value: 1.2168688774108887.\n",
      "[I 2024-11-14 01:11:43,305] Trial 72 finished with value: 1.8781784772872925 and parameters: {'BLOCK_SIZE_M': 16, 'BLOCK_SIZE_N': 256, 'BLOCK_SIZE_K': 32, 'GROUP_SIZE_N': 8, 'num_stages': 5, 'num_warps': 4}. Best is trial 54 with value: 1.2168688774108887.\n",
      "[I 2024-11-14 01:11:43,449] Trial 73 finished with value: 1.226224422454834 and parameters: {'BLOCK_SIZE_M': 16, 'BLOCK_SIZE_N': 256, 'BLOCK_SIZE_K': 32, 'GROUP_SIZE_N': 8, 'num_stages': 5, 'num_warps': 4}. Best is trial 54 with value: 1.2168688774108887.\n",
      "[I 2024-11-14 01:11:43,459] Trial 74 finished with value: inf and parameters: {'BLOCK_SIZE_M': 16, 'BLOCK_SIZE_N': 256, 'BLOCK_SIZE_K': 128, 'GROUP_SIZE_N': 8, 'num_stages': 5, 'num_warps': 4}. Best is trial 54 with value: 1.2168688774108887.\n",
      "[I 2024-11-14 01:11:43,627] Trial 75 finished with value: 1.7240694761276245 and parameters: {'BLOCK_SIZE_M': 16, 'BLOCK_SIZE_N': 256, 'BLOCK_SIZE_K': 32, 'GROUP_SIZE_N': 8, 'num_stages': 5, 'num_warps': 4}. Best is trial 54 with value: 1.2168688774108887.\n"
     ]
    },
    {
     "name": "stdout",
     "output_type": "stream",
     "text": [
      "out of resource: shared memory, Required: 141824, Hardware limit: 101376. Reducing block sizes or `num_stages` may help.\n"
     ]
    },
    {
     "name": "stderr",
     "output_type": "stream",
     "text": [
      "[I 2024-11-14 01:11:43,808] Trial 76 finished with value: 1.8748321533203125 and parameters: {'BLOCK_SIZE_M': 16, 'BLOCK_SIZE_N': 256, 'BLOCK_SIZE_K': 32, 'GROUP_SIZE_N': 8, 'num_stages': 5, 'num_warps': 4}. Best is trial 54 with value: 1.2168688774108887.\n",
      "[I 2024-11-14 01:11:45,665] Trial 77 finished with value: 3.487936019897461 and parameters: {'BLOCK_SIZE_M': 16, 'BLOCK_SIZE_N': 128, 'BLOCK_SIZE_K': 256, 'GROUP_SIZE_N': 8, 'num_stages': 3, 'num_warps': 4}. Best is trial 54 with value: 1.2168688774108887.\n",
      "[I 2024-11-14 01:11:46,527] Trial 78 finished with value: 2.1140310764312744 and parameters: {'BLOCK_SIZE_M': 16, 'BLOCK_SIZE_N': 256, 'BLOCK_SIZE_K': 32, 'GROUP_SIZE_N': 8, 'num_stages': 5, 'num_warps': 8}. Best is trial 54 with value: 1.2168688774108887.\n",
      "[I 2024-11-14 01:11:47,043] Trial 79 finished with value: 2.9022140502929688 and parameters: {'BLOCK_SIZE_M': 16, 'BLOCK_SIZE_N': 16, 'BLOCK_SIZE_K': 32, 'GROUP_SIZE_N': 8, 'num_stages': 5, 'num_warps': 4}. Best is trial 54 with value: 1.2168688774108887.\n",
      "[I 2024-11-14 01:11:48,358] Trial 80 finished with value: 2.7913568019866943 and parameters: {'BLOCK_SIZE_M': 16, 'BLOCK_SIZE_N': 256, 'BLOCK_SIZE_K': 64, 'GROUP_SIZE_N': 1, 'num_stages': 5, 'num_warps': 4}. Best is trial 54 with value: 1.2168688774108887.\n",
      "[I 2024-11-14 01:11:48,502] Trial 81 finished with value: 1.2324771881103516 and parameters: {'BLOCK_SIZE_M': 16, 'BLOCK_SIZE_N': 256, 'BLOCK_SIZE_K': 32, 'GROUP_SIZE_N': 8, 'num_stages': 5, 'num_warps': 4}. Best is trial 54 with value: 1.2168688774108887.\n",
      "[I 2024-11-14 01:11:48,512] Trial 82 finished with value: inf and parameters: {'BLOCK_SIZE_M': 16, 'BLOCK_SIZE_N': 256, 'BLOCK_SIZE_K': 128, 'GROUP_SIZE_N': 8, 'num_stages': 5, 'num_warps': 4}. Best is trial 54 with value: 1.2168688774108887.\n",
      "[I 2024-11-14 01:11:48,663] Trial 83 finished with value: 1.4486185312271118 and parameters: {'BLOCK_SIZE_M': 16, 'BLOCK_SIZE_N': 256, 'BLOCK_SIZE_K': 32, 'GROUP_SIZE_N': 8, 'num_stages': 5, 'num_warps': 4}. Best is trial 54 with value: 1.2168688774108887.\n"
     ]
    },
    {
     "name": "stdout",
     "output_type": "stream",
     "text": [
      "out of resource: shared memory, Required: 141824, Hardware limit: 101376. Reducing block sizes or `num_stages` may help.\n"
     ]
    },
    {
     "name": "stderr",
     "output_type": "stream",
     "text": [
      "[I 2024-11-14 01:11:48,801] Trial 84 finished with value: 1.2285362482070923 and parameters: {'BLOCK_SIZE_M': 16, 'BLOCK_SIZE_N': 256, 'BLOCK_SIZE_K': 32, 'GROUP_SIZE_N': 8, 'num_stages': 5, 'num_warps': 4}. Best is trial 54 with value: 1.2168688774108887.\n",
      "[I 2024-11-14 01:11:48,815] Trial 85 finished with value: inf and parameters: {'BLOCK_SIZE_M': 16, 'BLOCK_SIZE_N': 256, 'BLOCK_SIZE_K': 256, 'GROUP_SIZE_N': 8, 'num_stages': 2, 'num_warps': 4}. Best is trial 54 with value: 1.2168688774108887.\n",
      "[I 2024-11-14 01:11:48,963] Trial 86 finished with value: 1.6535592079162598 and parameters: {'BLOCK_SIZE_M': 16, 'BLOCK_SIZE_N': 32, 'BLOCK_SIZE_K': 32, 'GROUP_SIZE_N': 8, 'num_stages': 5, 'num_warps': 4}. Best is trial 54 with value: 1.2168688774108887.\n"
     ]
    },
    {
     "name": "stdout",
     "output_type": "stream",
     "text": [
      "out of resource: shared memory, Required: 141824, Hardware limit: 101376. Reducing block sizes or `num_stages` may help.\n"
     ]
    },
    {
     "name": "stderr",
     "output_type": "stream",
     "text": [
      "[I 2024-11-14 01:11:50,069] Trial 87 finished with value: 2.2570347785949707 and parameters: {'BLOCK_SIZE_M': 16, 'BLOCK_SIZE_N': 256, 'BLOCK_SIZE_K': 32, 'GROUP_SIZE_N': 4, 'num_stages': 5, 'num_warps': 4}. Best is trial 54 with value: 1.2168688774108887.\n",
      "[I 2024-11-14 01:11:50,839] Trial 88 finished with value: 1.8126057386398315 and parameters: {'BLOCK_SIZE_M': 16, 'BLOCK_SIZE_N': 64, 'BLOCK_SIZE_K': 64, 'GROUP_SIZE_N': 8, 'num_stages': 5, 'num_warps': 4}. Best is trial 54 with value: 1.2168688774108887.\n",
      "[I 2024-11-14 01:11:50,996] Trial 89 finished with value: 1.6318742036819458 and parameters: {'BLOCK_SIZE_M': 16, 'BLOCK_SIZE_N': 256, 'BLOCK_SIZE_K': 32, 'GROUP_SIZE_N': 8, 'num_stages': 4, 'num_warps': 4}. Best is trial 54 with value: 1.2168688774108887.\n",
      "[I 2024-11-14 01:11:51,026] Trial 90 finished with value: inf and parameters: {'BLOCK_SIZE_M': 16, 'BLOCK_SIZE_N': 256, 'BLOCK_SIZE_K': 128, 'GROUP_SIZE_N': 8, 'num_stages': 5, 'num_warps': 4}. Best is trial 54 with value: 1.2168688774108887.\n",
      "[I 2024-11-14 01:11:51,136] Trial 91 finished with value: 1.9646902084350586 and parameters: {'BLOCK_SIZE_M': 16, 'BLOCK_SIZE_N': 256, 'BLOCK_SIZE_K': 32, 'GROUP_SIZE_N': 8, 'num_stages': 5, 'num_warps': 4}. Best is trial 54 with value: 1.2168688774108887.\n"
     ]
    },
    {
     "name": "stdout",
     "output_type": "stream",
     "text": [
      "out of resource: shared memory, Required: 141824, Hardware limit: 101376. Reducing block sizes or `num_stages` may help.\n"
     ]
    },
    {
     "name": "stderr",
     "output_type": "stream",
     "text": [
      "[I 2024-11-14 01:11:51,279] Trial 92 finished with value: 1.2568103075027466 and parameters: {'BLOCK_SIZE_M': 16, 'BLOCK_SIZE_N': 256, 'BLOCK_SIZE_K': 32, 'GROUP_SIZE_N': 8, 'num_stages': 5, 'num_warps': 4}. Best is trial 54 with value: 1.2168688774108887.\n",
      "[I 2024-11-14 01:11:51,512] Trial 93 finished with value: 2.4039108753204346 and parameters: {'BLOCK_SIZE_M': 16, 'BLOCK_SIZE_N': 256, 'BLOCK_SIZE_K': 32, 'GROUP_SIZE_N': 8, 'num_stages': 5, 'num_warps': 4}. Best is trial 54 with value: 1.2168688774108887.\n",
      "[I 2024-11-14 01:11:51,658] Trial 94 finished with value: 2.600677490234375 and parameters: {'BLOCK_SIZE_M': 16, 'BLOCK_SIZE_N': 256, 'BLOCK_SIZE_K': 32, 'GROUP_SIZE_N': 8, 'num_stages': 5, 'num_warps': 4}. Best is trial 54 with value: 1.2168688774108887.\n",
      "[I 2024-11-14 01:11:52,937] Trial 95 finished with value: 2.260634422302246 and parameters: {'BLOCK_SIZE_M': 16, 'BLOCK_SIZE_N': 256, 'BLOCK_SIZE_K': 32, 'GROUP_SIZE_N': 8, 'num_stages': 3, 'num_warps': 4}. Best is trial 54 with value: 1.2168688774108887.\n",
      "[I 2024-11-14 01:11:53,076] Trial 96 finished with value: 1.2351646423339844 and parameters: {'BLOCK_SIZE_M': 16, 'BLOCK_SIZE_N': 256, 'BLOCK_SIZE_K': 32, 'GROUP_SIZE_N': 8, 'num_stages': 5, 'num_warps': 8}. Best is trial 54 with value: 1.2168688774108887.\n",
      "[I 2024-11-14 01:11:53,209] Trial 97 finished with value: 2.9111809730529785 and parameters: {'BLOCK_SIZE_M': 16, 'BLOCK_SIZE_N': 16, 'BLOCK_SIZE_K': 32, 'GROUP_SIZE_N': 8, 'num_stages': 5, 'num_warps': 4}. Best is trial 54 with value: 1.2168688774108887.\n",
      "[I 2024-11-14 01:11:54,337] Trial 98 finished with value: 2.0560927391052246 and parameters: {'BLOCK_SIZE_M': 16, 'BLOCK_SIZE_N': 256, 'BLOCK_SIZE_K': 32, 'GROUP_SIZE_N': 1, 'num_stages': 5, 'num_warps': 4}. Best is trial 54 with value: 1.2168688774108887.\n",
      "[I 2024-11-14 01:11:56,685] Trial 99 finished with value: inf and parameters: {'BLOCK_SIZE_M': 16, 'BLOCK_SIZE_N': 128, 'BLOCK_SIZE_K': 256, 'GROUP_SIZE_N': 8, 'num_stages': 5, 'num_warps': 4}. Best is trial 54 with value: 1.2168688774108887.\n"
     ]
    },
    {
     "name": "stdout",
     "output_type": "stream",
     "text": [
      "out of resource: shared memory, Required: 152064, Hardware limit: 101376. Reducing block sizes or `num_stages` may help.\n"
     ]
    },
    {
     "data": {
      "text/plain": [
       "({'BLOCK_SIZE_M': 16,\n",
       "  'BLOCK_SIZE_N': 256,\n",
       "  'BLOCK_SIZE_K': 32,\n",
       "  'GROUP_SIZE_N': 8,\n",
       "  'num_stages': 5,\n",
       "  'num_warps': 4},\n",
       " 1.2168688774108887)"
      ]
     },
     "execution_count": 34,
     "metadata": {},
     "output_type": "execute_result"
    }
   ],
   "source": [
    "from sparsemm_kernels.autotune import autotune\n",
    "from sparsemm_kernels.gemm_bcsr import bench_sparsemm_gemm_bcsr\n",
    "\n",
    "BATCH_SIZE = 512\n",
    "EMBED_DIM = 5120\n",
    "HIDDEN_DIM = 13824\n",
    "SPARSITY = 0.1\n",
    "\n",
    "autotune(\n",
    "    bench_sparsemm_gemm_bcsr,\n",
    "    (BATCH_SIZE, EMBED_DIM, HIDDEN_DIM, SPARSITY),\n",
    "    {\n",
    "        \"BLOCK_SIZE_M\": [16],\n",
    "        \"BLOCK_SIZE_N\": [16, 32, 64, 128, 256],\n",
    "        \"BLOCK_SIZE_K\": [16, 32, 64, 128, 256],\n",
    "        \"GROUP_SIZE_N\": [1, 2, 4, 8],\n",
    "        \"num_stages\": [2, 3, 4, 5],\n",
    "        \"num_warps\": [4, 8],\n",
    "    }\n",
    ")"
   ]
  },
  {
   "cell_type": "code",
   "execution_count": 13,
   "metadata": {},
   "outputs": [
    {
     "name": "stdout",
     "output_type": "stream",
     "text": [
      "cuBLAS: 1.47721159ms\n"
     ]
    }
   ],
   "source": [
    "A = torch.randn(BATCH_SIZE, EMBED_DIM, dtype=torch.float16, device=\"cuda\")\n",
    "B = torch.randn(EMBED_DIM, HIDDEN_DIM, dtype=torch.float16, device=\"cuda\")\n",
    "\n",
    "ms = triton.testing.do_bench(lambda: A @ B)\n",
    "print(f\"cuBLAS: {ms:.8f}ms\")"
   ]
  },
  {
   "cell_type": "code",
   "execution_count": null,
   "metadata": {},
   "outputs": [],
   "source": [
    "autotune(\n",
    "    bench_sparsemm_up_dejavu,\n",
    "    (BATCH_SIZE, EMBED_DIM, HIDDEN_DIM, P, Q),\n",
    "    {\n",
    "        \"BLOCK_SIZE_M\": [16, 32, 64, 128, 256],\n",
    "        \"BLOCK_SIZE_K\": [16, 32, 64, 128, 256],\n",
    "        \"BLOCK_SIZE_Q\": [16, 32, 64, 128, 256],\n",
    "        \"num_stages\": [2, 3, 4, 5],\n",
    "        \"num_warps\": [4, 8],\n",
    "    },\n",
    "    n_trials=100\n",
    ")"
   ]
  },
  {
   "cell_type": "code",
   "execution_count": null,
   "metadata": {},
   "outputs": [],
   "source": [
    "autotune(\n",
    "    bench_sparsemm_up_neo,\n",
    "    (BATCH_SIZE, EMBED_DIM, HIDDEN_DIM, P, Q),\n",
    "    {\n",
    "        \"BLOCK_SIZE_M\": [16, 32, 64, 128, 256],\n",
    "        \"BLOCK_SIZE_K\": [16, 32, 64, 128, 256],\n",
    "        \"BLOCK_SIZE_Q\": [16, 32, 64, 128, 256],\n",
    "        \"GROUP_SIZE_Q\": [1, 2, 4, 8, 16],\n",
    "        \"num_stages\": [2, 3, 4, 5],\n",
    "        \"num_warps\": [4, 8],\n",
    "    },\n",
    "    n_trials=100\n",
    ")"
   ]
  },
  {
   "cell_type": "code",
   "execution_count": null,
   "metadata": {},
   "outputs": [],
   "source": [
    "autotune(\n",
    "    bench_sparsemm_up_cats,\n",
    "    (BATCH_SIZE, EMBED_DIM, HIDDEN_DIM, P, Q),\n",
    "    {\n",
    "        \"BLOCK_SIZE_M\": [16, 32, 64, 128, 256],\n",
    "        \"BLOCK_SIZE_K\": [16, 32, 64, 128, 256],\n",
    "        \"BLOCK_SIZE_N\": [16, 32, 64, 128, 256],\n",
    "        \"GROUP_SIZE_N\": [1, 2, 4, 8, 16],\n",
    "        \"num_stages\": [2, 3, 4, 5],\n",
    "        \"num_warps\": [4, 8],\n",
    "    },\n",
    "    n_trials=100\n",
    ")"
   ]
  },
  {
   "cell_type": "code",
   "execution_count": null,
   "metadata": {},
   "outputs": [],
   "source": [
    "bench_sparsemm_down_dense(BATCH_SIZE, EMBED_DIM, HIDDEN_DIM, P, Q)"
   ]
  },
  {
   "cell_type": "code",
   "execution_count": null,
   "metadata": {},
   "outputs": [],
   "source": [
    "from sparsemm_kernels.down_dejavu import bench_sparsemm_down_dejavu\n",
    "\n",
    "autotune(\n",
    "    bench_sparsemm_down_dejavu,\n",
    "    (BATCH_SIZE, EMBED_DIM, HIDDEN_DIM, P, Q),\n",
    "    {\n",
    "        \"BLOCK_SIZE_M\": [16, 32, 64, 128, 256],\n",
    "        \"BLOCK_SIZE_Q\": [16, 32, 64, 128, 256],\n",
    "        \"BLOCK_SIZE_N\": [16, 32, 64, 128, 256],\n",
    "        \"num_stages\": [2, 3, 4, 5],\n",
    "        \"num_warps\": [4, 8],\n",
    "    },\n",
    "    n_trials=100\n",
    ")"
   ]
  },
  {
   "cell_type": "code",
   "execution_count": 7,
   "metadata": {},
   "outputs": [
    {
     "name": "stderr",
     "output_type": "stream",
     "text": [
      "[I 2024-11-01 20:48:40,532] A new study created in memory with name: no-name-d4f724a3-e39a-433f-9bb9-f892713cb416\n",
      "loc(\"/home/tianhaodong/repo/sp-gated-mlp-kernels/sparsemm_kernels/down_neo.py\":41:49): error: operation scheduled before its operands\n",
      "[I 2024-11-01 20:48:41,392] Trial 0 finished with value: 1.9837497472763062 and parameters: {'BLOCK_SIZE_M': 128, 'BLOCK_SIZE_Q': 128, 'BLOCK_SIZE_N': 32, 'GROUP_SIZE_N': 8, 'num_stages': 5, 'num_warps': 4}. Best is trial 0 with value: 1.9837497472763062.\n",
      "loc(\"/home/tianhaodong/repo/sp-gated-mlp-kernels/sparsemm_kernels/down_neo.py\":41:49): error: operation scheduled before its operands\n",
      "[I 2024-11-01 20:48:44,455] Trial 1 finished with value: 3.5551705360412598 and parameters: {'BLOCK_SIZE_M': 128, 'BLOCK_SIZE_Q': 64, 'BLOCK_SIZE_N': 256, 'GROUP_SIZE_N': 8, 'num_stages': 5, 'num_warps': 4}. Best is trial 0 with value: 1.9837497472763062.\n",
      "loc(\"/home/tianhaodong/repo/sp-gated-mlp-kernels/sparsemm_kernels/down_neo.py\":39:25): error: operation scheduled before its operands\n",
      "[I 2024-11-01 20:48:45,326] Trial 2 finished with value: 0.8190503716468811 and parameters: {'BLOCK_SIZE_M': 64, 'BLOCK_SIZE_Q': 128, 'BLOCK_SIZE_N': 128, 'GROUP_SIZE_N': 4, 'num_stages': 2, 'num_warps': 4}. Best is trial 2 with value: 0.8190503716468811.\n",
      "[I 2024-11-01 20:48:45,723] Trial 3 finished with value: 2.019214153289795 and parameters: {'BLOCK_SIZE_M': 16, 'BLOCK_SIZE_Q': 16, 'BLOCK_SIZE_N': 128, 'GROUP_SIZE_N': 2, 'num_stages': 3, 'num_warps': 8}. Best is trial 2 with value: 0.8190503716468811.\n",
      "loc(\"/home/tianhaodong/repo/sp-gated-mlp-kernels/sparsemm_kernels/down_neo.py\":41:49): error: operation scheduled before its operands\n",
      "[I 2024-11-01 20:48:46,275] Trial 4 finished with value: 1.1971914768218994 and parameters: {'BLOCK_SIZE_M': 32, 'BLOCK_SIZE_Q': 32, 'BLOCK_SIZE_N': 256, 'GROUP_SIZE_N': 16, 'num_stages': 4, 'num_warps': 4}. Best is trial 2 with value: 0.8190503716468811.\n",
      "loc(\"/home/tianhaodong/repo/sp-gated-mlp-kernels/sparsemm_kernels/down_neo.py\":41:49): error: operation scheduled before its operands\n",
      "[I 2024-11-01 20:48:46,663] Trial 5 finished with value: 3.0868477821350098 and parameters: {'BLOCK_SIZE_M': 16, 'BLOCK_SIZE_Q': 32, 'BLOCK_SIZE_N': 64, 'GROUP_SIZE_N': 1, 'num_stages': 5, 'num_warps': 8}. Best is trial 2 with value: 0.8190503716468811.\n",
      "loc(\"/home/tianhaodong/repo/sp-gated-mlp-kernels/sparsemm_kernels/down_neo.py\":41:49): error: operation scheduled before its operands\n",
      "[I 2024-11-01 20:48:47,123] Trial 6 finished with value: 2.12597393989563 and parameters: {'BLOCK_SIZE_M': 128, 'BLOCK_SIZE_Q': 64, 'BLOCK_SIZE_N': 16, 'GROUP_SIZE_N': 2, 'num_stages': 5, 'num_warps': 4}. Best is trial 2 with value: 0.8190503716468811.\n",
      "loc(\"/home/tianhaodong/repo/sp-gated-mlp-kernels/sparsemm_kernels/down_neo.py\":41:49): error: operation scheduled before its operands\n",
      "\u001b[32m2024-11-01 20:48:48.526\u001b[0m | \u001b[33m\u001b[1mWARNING \u001b[0m | \u001b[36msparsemm_kernels.down_neo\u001b[0m:\u001b[36mbench_sparsemm_down_neo\u001b[0m:\u001b[36m119\u001b[0m - \u001b[33m\u001b[1mError in bench_sparsemm_down_neo: out of resource: shared memory, Required: 197632, Hardware limit: 101376. Reducing block sizes or `num_stages` may help.\u001b[0m\n",
      "[I 2024-11-01 20:48:48,528] Trial 7 finished with value: inf and parameters: {'BLOCK_SIZE_M': 256, 'BLOCK_SIZE_Q': 128, 'BLOCK_SIZE_N': 128, 'GROUP_SIZE_N': 16, 'num_stages': 5, 'num_warps': 8}. Best is trial 2 with value: 0.8190503716468811.\n",
      "loc(\"/home/tianhaodong/repo/sp-gated-mlp-kernels/sparsemm_kernels/down_neo.py\":41:49): error: operation scheduled before its operands\n",
      "[I 2024-11-01 20:48:48,920] Trial 8 finished with value: 2.1195335388183594 and parameters: {'BLOCK_SIZE_M': 128, 'BLOCK_SIZE_Q': 64, 'BLOCK_SIZE_N': 16, 'GROUP_SIZE_N': 1, 'num_stages': 4, 'num_warps': 8}. Best is trial 2 with value: 0.8190503716468811.\n",
      "loc(\"/home/tianhaodong/repo/sp-gated-mlp-kernels/sparsemm_kernels/down_neo.py\":41:49): error: operation scheduled before its operands\n",
      "[I 2024-11-01 20:48:50,016] Trial 9 finished with value: 0.9454463720321655 and parameters: {'BLOCK_SIZE_M': 256, 'BLOCK_SIZE_Q': 64, 'BLOCK_SIZE_N': 128, 'GROUP_SIZE_N': 8, 'num_stages': 3, 'num_warps': 8}. Best is trial 2 with value: 0.8190503716468811.\n",
      "loc(\"/home/tianhaodong/repo/sp-gated-mlp-kernels/sparsemm_kernels/down_neo.py\":39:25): error: operation scheduled before its operands\n",
      "[I 2024-11-01 20:48:50,842] Trial 10 finished with value: 1.8213344812393188 and parameters: {'BLOCK_SIZE_M': 64, 'BLOCK_SIZE_Q': 256, 'BLOCK_SIZE_N': 32, 'GROUP_SIZE_N': 4, 'num_stages': 2, 'num_warps': 4}. Best is trial 2 with value: 0.8190503716468811.\n",
      "loc(\"/home/tianhaodong/repo/sp-gated-mlp-kernels/sparsemm_kernels/down_neo.py\":41:49): error: operation scheduled before its operands\n",
      "[I 2024-11-01 20:48:52,341] Trial 11 finished with value: 1.035194754600525 and parameters: {'BLOCK_SIZE_M': 256, 'BLOCK_SIZE_Q': 128, 'BLOCK_SIZE_N': 128, 'GROUP_SIZE_N': 4, 'num_stages': 3, 'num_warps': 8}. Best is trial 2 with value: 0.8190503716468811.\n",
      "loc(\"/home/tianhaodong/repo/sp-gated-mlp-kernels/sparsemm_kernels/down_neo.py\":39:25): error: operation scheduled before its operands\n",
      "[I 2024-11-01 20:48:52,821] Trial 12 finished with value: 0.89646977186203 and parameters: {'BLOCK_SIZE_M': 64, 'BLOCK_SIZE_Q': 16, 'BLOCK_SIZE_N': 128, 'GROUP_SIZE_N': 8, 'num_stages': 2, 'num_warps': 4}. Best is trial 2 with value: 0.8190503716468811.\n",
      "loc(\"/home/tianhaodong/repo/sp-gated-mlp-kernels/sparsemm_kernels/down_neo.py\":39:25): error: operation scheduled before its operands\n",
      "[I 2024-11-01 20:48:53,326] Trial 13 finished with value: 0.9014295339584351 and parameters: {'BLOCK_SIZE_M': 64, 'BLOCK_SIZE_Q': 16, 'BLOCK_SIZE_N': 128, 'GROUP_SIZE_N': 4, 'num_stages': 2, 'num_warps': 4}. Best is trial 2 with value: 0.8190503716468811.\n",
      "loc(\"/home/tianhaodong/repo/sp-gated-mlp-kernels/sparsemm_kernels/down_neo.py\":39:25): error: operation scheduled before its operands\n",
      "[I 2024-11-01 20:48:53,710] Trial 14 finished with value: 1.534881353378296 and parameters: {'BLOCK_SIZE_M': 64, 'BLOCK_SIZE_Q': 16, 'BLOCK_SIZE_N': 64, 'GROUP_SIZE_N': 4, 'num_stages': 2, 'num_warps': 4}. Best is trial 2 with value: 0.8190503716468811.\n",
      "loc(\"/home/tianhaodong/repo/sp-gated-mlp-kernels/sparsemm_kernels/down_neo.py\":39:25): error: operation scheduled before its operands\n",
      "[I 2024-11-01 20:48:55,059] Trial 15 finished with value: 1.2868915796279907 and parameters: {'BLOCK_SIZE_M': 64, 'BLOCK_SIZE_Q': 256, 'BLOCK_SIZE_N': 128, 'GROUP_SIZE_N': 8, 'num_stages': 2, 'num_warps': 4}. Best is trial 2 with value: 0.8190503716468811.\n",
      "[I 2024-11-01 20:48:55,194] Trial 16 finished with value: 0.8989172577857971 and parameters: {'BLOCK_SIZE_M': 64, 'BLOCK_SIZE_Q': 16, 'BLOCK_SIZE_N': 128, 'GROUP_SIZE_N': 8, 'num_stages': 2, 'num_warps': 4}. Best is trial 2 with value: 0.8190503716468811.\n",
      "loc(\"/home/tianhaodong/repo/sp-gated-mlp-kernels/sparsemm_kernels/down_neo.py\":39:25): error: operation scheduled before its operands\n",
      "[I 2024-11-01 20:48:55,783] Trial 17 finished with value: 1.378471851348877 and parameters: {'BLOCK_SIZE_M': 32, 'BLOCK_SIZE_Q': 128, 'BLOCK_SIZE_N': 128, 'GROUP_SIZE_N': 4, 'num_stages': 2, 'num_warps': 4}. Best is trial 2 with value: 0.8190503716468811.\n",
      "loc(\"/home/tianhaodong/repo/sp-gated-mlp-kernels/sparsemm_kernels/down_neo.py\":39:25): error: operation scheduled before its operands\n",
      "[I 2024-11-01 20:48:56,158] Trial 18 finished with value: 1.5250153541564941 and parameters: {'BLOCK_SIZE_M': 64, 'BLOCK_SIZE_Q': 16, 'BLOCK_SIZE_N': 64, 'GROUP_SIZE_N': 16, 'num_stages': 2, 'num_warps': 4}. Best is trial 2 with value: 0.8190503716468811.\n",
      "loc(\"/home/tianhaodong/repo/sp-gated-mlp-kernels/sparsemm_kernels/down_neo.py\":39:25): error: operation scheduled before its operands\n",
      "[I 2024-11-01 20:48:56,685] Trial 19 finished with value: 1.3496639728546143 and parameters: {'BLOCK_SIZE_M': 64, 'BLOCK_SIZE_Q': 128, 'BLOCK_SIZE_N': 32, 'GROUP_SIZE_N': 1, 'num_stages': 2, 'num_warps': 4}. Best is trial 2 with value: 0.8190503716468811.\n",
      "loc(\"/home/tianhaodong/repo/sp-gated-mlp-kernels/sparsemm_kernels/down_neo.py\":41:49): error: operation scheduled before its operands\n",
      "\u001b[32m2024-11-01 20:48:58.820\u001b[0m | \u001b[33m\u001b[1mWARNING \u001b[0m | \u001b[36msparsemm_kernels.down_neo\u001b[0m:\u001b[36mbench_sparsemm_down_neo\u001b[0m:\u001b[36m119\u001b[0m - \u001b[33m\u001b[1mError in bench_sparsemm_down_neo: out of resource: shared memory, Required: 329728, Hardware limit: 101376. Reducing block sizes or `num_stages` may help.\u001b[0m\n",
      "[I 2024-11-01 20:48:58,821] Trial 20 finished with value: inf and parameters: {'BLOCK_SIZE_M': 64, 'BLOCK_SIZE_Q': 256, 'BLOCK_SIZE_N': 256, 'GROUP_SIZE_N': 2, 'num_stages': 4, 'num_warps': 4}. Best is trial 2 with value: 0.8190503716468811.\n",
      "[I 2024-11-01 20:48:58,955] Trial 21 finished with value: 0.953279972076416 and parameters: {'BLOCK_SIZE_M': 64, 'BLOCK_SIZE_Q': 16, 'BLOCK_SIZE_N': 128, 'GROUP_SIZE_N': 8, 'num_stages': 2, 'num_warps': 4}. Best is trial 2 with value: 0.8190503716468811.\n",
      "[I 2024-11-01 20:48:59,083] Trial 22 finished with value: 0.9019519686698914 and parameters: {'BLOCK_SIZE_M': 64, 'BLOCK_SIZE_Q': 16, 'BLOCK_SIZE_N': 128, 'GROUP_SIZE_N': 8, 'num_stages': 2, 'num_warps': 4}. Best is trial 2 with value: 0.8190503716468811.\n",
      "[I 2024-11-01 20:48:59,216] Trial 23 finished with value: 0.8894537091255188 and parameters: {'BLOCK_SIZE_M': 64, 'BLOCK_SIZE_Q': 16, 'BLOCK_SIZE_N': 128, 'GROUP_SIZE_N': 8, 'num_stages': 2, 'num_warps': 4}. Best is trial 2 with value: 0.8190503716468811.\n",
      "[I 2024-11-01 20:48:59,348] Trial 24 finished with value: 0.8940252661705017 and parameters: {'BLOCK_SIZE_M': 64, 'BLOCK_SIZE_Q': 16, 'BLOCK_SIZE_N': 128, 'GROUP_SIZE_N': 8, 'num_stages': 2, 'num_warps': 4}. Best is trial 2 with value: 0.8190503716468811.\n",
      "loc(\"/home/tianhaodong/repo/sp-gated-mlp-kernels/sparsemm_kernels/down_neo.py\":39:25): error: operation scheduled before its operands\n",
      "[I 2024-11-01 20:48:59,725] Trial 25 finished with value: 5.104281425476074 and parameters: {'BLOCK_SIZE_M': 16, 'BLOCK_SIZE_Q': 32, 'BLOCK_SIZE_N': 16, 'GROUP_SIZE_N': 4, 'num_stages': 2, 'num_warps': 4}. Best is trial 2 with value: 0.8190503716468811.\n",
      "loc(\"/home/tianhaodong/repo/sp-gated-mlp-kernels/sparsemm_kernels/down_neo.py\":39:25): error: operation scheduled before its operands\n",
      "[I 2024-11-01 20:49:00,360] Trial 26 finished with value: 1.3836421966552734 and parameters: {'BLOCK_SIZE_M': 32, 'BLOCK_SIZE_Q': 128, 'BLOCK_SIZE_N': 128, 'GROUP_SIZE_N': 8, 'num_stages': 2, 'num_warps': 4}. Best is trial 2 with value: 0.8190503716468811.\n",
      "[I 2024-11-01 20:49:00,494] Trial 27 finished with value: 0.8947833776473999 and parameters: {'BLOCK_SIZE_M': 64, 'BLOCK_SIZE_Q': 16, 'BLOCK_SIZE_N': 128, 'GROUP_SIZE_N': 8, 'num_stages': 2, 'num_warps': 4}. Best is trial 2 with value: 0.8190503716468811.\n",
      "loc(\"/home/tianhaodong/repo/sp-gated-mlp-kernels/sparsemm_kernels/down_neo.py\":41:49): error: operation scheduled before its operands\n",
      "[I 2024-11-01 20:49:00,984] Trial 28 finished with value: 0.9024450778961182 and parameters: {'BLOCK_SIZE_M': 64, 'BLOCK_SIZE_Q': 16, 'BLOCK_SIZE_N': 128, 'GROUP_SIZE_N': 4, 'num_stages': 4, 'num_warps': 4}. Best is trial 2 with value: 0.8190503716468811.\n",
      "loc(\"/home/tianhaodong/repo/sp-gated-mlp-kernels/sparsemm_kernels/down_neo.py\":41:49): error: operation scheduled before its operands\n",
      "[I 2024-11-01 20:49:01,552] Trial 29 finished with value: 1.3516474962234497 and parameters: {'BLOCK_SIZE_M': 64, 'BLOCK_SIZE_Q': 128, 'BLOCK_SIZE_N': 32, 'GROUP_SIZE_N': 8, 'num_stages': 3, 'num_warps': 4}. Best is trial 2 with value: 0.8190503716468811.\n",
      "loc(\"/home/tianhaodong/repo/sp-gated-mlp-kernels/sparsemm_kernels/down_neo.py\":39:25): error: operation scheduled before its operands\n",
      "[I 2024-11-01 20:49:01,971] Trial 30 finished with value: 3.546351194381714 and parameters: {'BLOCK_SIZE_M': 16, 'BLOCK_SIZE_Q': 128, 'BLOCK_SIZE_N': 16, 'GROUP_SIZE_N': 2, 'num_stages': 2, 'num_warps': 4}. Best is trial 2 with value: 0.8190503716468811.\n",
      "[I 2024-11-01 20:49:02,100] Trial 31 finished with value: 0.9111395478248596 and parameters: {'BLOCK_SIZE_M': 64, 'BLOCK_SIZE_Q': 16, 'BLOCK_SIZE_N': 128, 'GROUP_SIZE_N': 8, 'num_stages': 2, 'num_warps': 4}. Best is trial 2 with value: 0.8190503716468811.\n",
      "[I 2024-11-01 20:49:02,234] Trial 32 finished with value: 0.889771580696106 and parameters: {'BLOCK_SIZE_M': 64, 'BLOCK_SIZE_Q': 16, 'BLOCK_SIZE_N': 128, 'GROUP_SIZE_N': 8, 'num_stages': 2, 'num_warps': 4}. Best is trial 2 with value: 0.8190503716468811.\n",
      "loc(\"/home/tianhaodong/repo/sp-gated-mlp-kernels/sparsemm_kernels/down_neo.py\":39:25): error: operation scheduled before its operands\n",
      "[I 2024-11-01 20:49:04,837] Trial 33 finished with value: 1.86802077293396 and parameters: {'BLOCK_SIZE_M': 128, 'BLOCK_SIZE_Q': 16, 'BLOCK_SIZE_N': 256, 'GROUP_SIZE_N': 8, 'num_stages': 2, 'num_warps': 4}. Best is trial 2 with value: 0.8190503716468811.\n",
      "[I 2024-11-01 20:49:04,970] Trial 34 finished with value: 0.9522304534912109 and parameters: {'BLOCK_SIZE_M': 64, 'BLOCK_SIZE_Q': 16, 'BLOCK_SIZE_N': 128, 'GROUP_SIZE_N': 8, 'num_stages': 2, 'num_warps': 4}. Best is trial 2 with value: 0.8190503716468811.\n",
      "loc(\"/home/tianhaodong/repo/sp-gated-mlp-kernels/sparsemm_kernels/down_neo.py\":41:49): error: operation scheduled before its operands\n",
      "[I 2024-11-01 20:49:05,384] Trial 35 finished with value: 1.115481972694397 and parameters: {'BLOCK_SIZE_M': 32, 'BLOCK_SIZE_Q': 32, 'BLOCK_SIZE_N': 128, 'GROUP_SIZE_N': 16, 'num_stages': 5, 'num_warps': 4}. Best is trial 2 with value: 0.8190503716468811.\n",
      "loc(\"/home/tianhaodong/repo/sp-gated-mlp-kernels/sparsemm_kernels/down_neo.py\":41:49): error: operation scheduled before its operands\n",
      "[I 2024-11-01 20:49:05,780] Trial 36 finished with value: 1.5057555437088013 and parameters: {'BLOCK_SIZE_M': 64, 'BLOCK_SIZE_Q': 16, 'BLOCK_SIZE_N': 64, 'GROUP_SIZE_N': 1, 'num_stages': 3, 'num_warps': 8}. Best is trial 2 with value: 0.8190503716468811.\n",
      "loc(\"/home/tianhaodong/repo/sp-gated-mlp-kernels/sparsemm_kernels/down_neo.py\":41:49): error: operation scheduled before its operands\n",
      "\u001b[32m2024-11-01 20:49:20.379\u001b[0m | \u001b[33m\u001b[1mWARNING \u001b[0m | \u001b[36msparsemm_kernels.down_neo\u001b[0m:\u001b[36mbench_sparsemm_down_neo\u001b[0m:\u001b[36m119\u001b[0m - \u001b[33m\u001b[1mError in bench_sparsemm_down_neo: out of resource: shared memory, Required: 131584, Hardware limit: 101376. Reducing block sizes or `num_stages` may help.\u001b[0m\n",
      "[I 2024-11-01 20:49:20,381] Trial 37 finished with value: inf and parameters: {'BLOCK_SIZE_M': 256, 'BLOCK_SIZE_Q': 64, 'BLOCK_SIZE_N': 256, 'GROUP_SIZE_N': 8, 'num_stages': 5, 'num_warps': 4}. Best is trial 2 with value: 0.8190503716468811.\n",
      "loc(\"/home/tianhaodong/repo/sp-gated-mlp-kernels/sparsemm_kernels/down_neo.py\":41:49): error: operation scheduled before its operands\n",
      "[I 2024-11-01 20:49:20,900] Trial 38 finished with value: 0.8662196397781372 and parameters: {'BLOCK_SIZE_M': 128, 'BLOCK_SIZE_Q': 32, 'BLOCK_SIZE_N': 128, 'GROUP_SIZE_N': 2, 'num_stages': 4, 'num_warps': 8}. Best is trial 2 with value: 0.8190503716468811.\n",
      "loc(\"/home/tianhaodong/repo/sp-gated-mlp-kernels/sparsemm_kernels/down_neo.py\":41:49): error: operation scheduled before its operands\n",
      "[I 2024-11-01 20:49:21,295] Trial 39 finished with value: 1.1756097078323364 and parameters: {'BLOCK_SIZE_M': 128, 'BLOCK_SIZE_Q': 32, 'BLOCK_SIZE_N': 32, 'GROUP_SIZE_N': 2, 'num_stages': 4, 'num_warps': 8}. Best is trial 2 with value: 0.8190503716468811.\n",
      "[I 2024-11-01 20:49:21,425] Trial 40 finished with value: 0.7908543944358826 and parameters: {'BLOCK_SIZE_M': 128, 'BLOCK_SIZE_Q': 32, 'BLOCK_SIZE_N': 128, 'GROUP_SIZE_N': 2, 'num_stages': 4, 'num_warps': 8}. Best is trial 40 with value: 0.7908543944358826.\n",
      "[I 2024-11-01 20:49:21,555] Trial 41 finished with value: 0.7852187752723694 and parameters: {'BLOCK_SIZE_M': 128, 'BLOCK_SIZE_Q': 32, 'BLOCK_SIZE_N': 128, 'GROUP_SIZE_N': 2, 'num_stages': 4, 'num_warps': 8}. Best is trial 41 with value: 0.7852187752723694.\n",
      "[I 2024-11-01 20:49:21,686] Trial 42 finished with value: 0.7773701548576355 and parameters: {'BLOCK_SIZE_M': 128, 'BLOCK_SIZE_Q': 32, 'BLOCK_SIZE_N': 128, 'GROUP_SIZE_N': 2, 'num_stages': 4, 'num_warps': 8}. Best is trial 42 with value: 0.7773701548576355.\n",
      "[I 2024-11-01 20:49:21,818] Trial 43 finished with value: 0.7793190479278564 and parameters: {'BLOCK_SIZE_M': 128, 'BLOCK_SIZE_Q': 32, 'BLOCK_SIZE_N': 128, 'GROUP_SIZE_N': 2, 'num_stages': 4, 'num_warps': 8}. Best is trial 42 with value: 0.7773701548576355.\n",
      "[I 2024-11-01 20:49:21,948] Trial 44 finished with value: 0.7771168947219849 and parameters: {'BLOCK_SIZE_M': 128, 'BLOCK_SIZE_Q': 32, 'BLOCK_SIZE_N': 128, 'GROUP_SIZE_N': 2, 'num_stages': 4, 'num_warps': 8}. Best is trial 44 with value: 0.7771168947219849.\n",
      "[I 2024-11-01 20:49:22,080] Trial 45 finished with value: 0.7802660465240479 and parameters: {'BLOCK_SIZE_M': 128, 'BLOCK_SIZE_Q': 32, 'BLOCK_SIZE_N': 128, 'GROUP_SIZE_N': 2, 'num_stages': 4, 'num_warps': 8}. Best is trial 44 with value: 0.7771168947219849.\n",
      "loc(\"/home/tianhaodong/repo/sp-gated-mlp-kernels/sparsemm_kernels/down_neo.py\":41:49): error: operation scheduled before its operands\n",
      "[I 2024-11-01 20:49:22,477] Trial 46 finished with value: 1.9399679899215698 and parameters: {'BLOCK_SIZE_M': 128, 'BLOCK_SIZE_Q': 32, 'BLOCK_SIZE_N': 16, 'GROUP_SIZE_N': 2, 'num_stages': 4, 'num_warps': 8}. Best is trial 44 with value: 0.7771168947219849.\n",
      "[I 2024-11-01 20:49:22,607] Trial 47 finished with value: 0.7818908095359802 and parameters: {'BLOCK_SIZE_M': 128, 'BLOCK_SIZE_Q': 32, 'BLOCK_SIZE_N': 128, 'GROUP_SIZE_N': 2, 'num_stages': 4, 'num_warps': 8}. Best is trial 44 with value: 0.7771168947219849.\n",
      "[I 2024-11-01 20:49:22,740] Trial 48 finished with value: 0.7828754782676697 and parameters: {'BLOCK_SIZE_M': 128, 'BLOCK_SIZE_Q': 32, 'BLOCK_SIZE_N': 128, 'GROUP_SIZE_N': 2, 'num_stages': 4, 'num_warps': 8}. Best is trial 44 with value: 0.7771168947219849.\n",
      "loc(\"/home/tianhaodong/repo/sp-gated-mlp-kernels/sparsemm_kernels/down_neo.py\":41:49): error: operation scheduled before its operands\n",
      "[I 2024-11-01 20:49:23,189] Trial 49 finished with value: 1.015768051147461 and parameters: {'BLOCK_SIZE_M': 128, 'BLOCK_SIZE_Q': 32, 'BLOCK_SIZE_N': 64, 'GROUP_SIZE_N': 2, 'num_stages': 4, 'num_warps': 8}. Best is trial 44 with value: 0.7771168947219849.\n",
      "[I 2024-11-01 20:49:23,322] Trial 50 finished with value: 0.7803751230239868 and parameters: {'BLOCK_SIZE_M': 128, 'BLOCK_SIZE_Q': 32, 'BLOCK_SIZE_N': 128, 'GROUP_SIZE_N': 2, 'num_stages': 4, 'num_warps': 8}. Best is trial 44 with value: 0.7771168947219849.\n",
      "[I 2024-11-01 20:49:23,453] Trial 51 finished with value: 0.7808604836463928 and parameters: {'BLOCK_SIZE_M': 128, 'BLOCK_SIZE_Q': 32, 'BLOCK_SIZE_N': 128, 'GROUP_SIZE_N': 2, 'num_stages': 4, 'num_warps': 8}. Best is trial 44 with value: 0.7771168947219849.\n",
      "[I 2024-11-01 20:49:23,585] Trial 52 finished with value: 0.775178849697113 and parameters: {'BLOCK_SIZE_M': 128, 'BLOCK_SIZE_Q': 32, 'BLOCK_SIZE_N': 128, 'GROUP_SIZE_N': 2, 'num_stages': 4, 'num_warps': 8}. Best is trial 52 with value: 0.775178849697113.\n",
      "[I 2024-11-01 20:49:23,719] Trial 53 finished with value: 0.7825211882591248 and parameters: {'BLOCK_SIZE_M': 128, 'BLOCK_SIZE_Q': 32, 'BLOCK_SIZE_N': 128, 'GROUP_SIZE_N': 2, 'num_stages': 4, 'num_warps': 8}. Best is trial 52 with value: 0.775178849697113.\n",
      "[I 2024-11-01 20:49:23,852] Trial 54 finished with value: 0.7767912149429321 and parameters: {'BLOCK_SIZE_M': 128, 'BLOCK_SIZE_Q': 32, 'BLOCK_SIZE_N': 128, 'GROUP_SIZE_N': 2, 'num_stages': 4, 'num_warps': 8}. Best is trial 52 with value: 0.775178849697113.\n",
      "[I 2024-11-01 20:49:23,982] Trial 55 finished with value: 0.7806954383850098 and parameters: {'BLOCK_SIZE_M': 128, 'BLOCK_SIZE_Q': 32, 'BLOCK_SIZE_N': 128, 'GROUP_SIZE_N': 2, 'num_stages': 4, 'num_warps': 8}. Best is trial 52 with value: 0.775178849697113.\n",
      "loc(\"/home/tianhaodong/repo/sp-gated-mlp-kernels/sparsemm_kernels/down_neo.py\":41:49): error: operation scheduled before its operands\n",
      "[I 2024-11-01 20:49:24,916] Trial 56 finished with value: 1.1356159448623657 and parameters: {'BLOCK_SIZE_M': 128, 'BLOCK_SIZE_Q': 32, 'BLOCK_SIZE_N': 256, 'GROUP_SIZE_N': 2, 'num_stages': 4, 'num_warps': 8}. Best is trial 52 with value: 0.775178849697113.\n",
      "[I 2024-11-01 20:49:25,051] Trial 57 finished with value: 0.7779093384742737 and parameters: {'BLOCK_SIZE_M': 128, 'BLOCK_SIZE_Q': 32, 'BLOCK_SIZE_N': 128, 'GROUP_SIZE_N': 2, 'num_stages': 4, 'num_warps': 8}. Best is trial 52 with value: 0.775178849697113.\n",
      "loc(\"/home/tianhaodong/repo/sp-gated-mlp-kernels/sparsemm_kernels/down_neo.py\":41:49): error: operation scheduled before its operands\n",
      "\u001b[32m2024-11-01 20:49:25.711\u001b[0m | \u001b[33m\u001b[1mWARNING \u001b[0m | \u001b[36msparsemm_kernels.down_neo\u001b[0m:\u001b[36mbench_sparsemm_down_neo\u001b[0m:\u001b[36m119\u001b[0m - \u001b[33m\u001b[1mError in bench_sparsemm_down_neo: out of resource: shared memory, Required: 165888, Hardware limit: 101376. Reducing block sizes or `num_stages` may help.\u001b[0m\n",
      "[I 2024-11-01 20:49:25,713] Trial 58 finished with value: inf and parameters: {'BLOCK_SIZE_M': 128, 'BLOCK_SIZE_Q': 256, 'BLOCK_SIZE_N': 32, 'GROUP_SIZE_N': 2, 'num_stages': 4, 'num_warps': 8}. Best is trial 52 with value: 0.775178849697113.\n",
      "[I 2024-11-01 20:49:25,847] Trial 59 finished with value: 0.7763320803642273 and parameters: {'BLOCK_SIZE_M': 128, 'BLOCK_SIZE_Q': 32, 'BLOCK_SIZE_N': 128, 'GROUP_SIZE_N': 2, 'num_stages': 4, 'num_warps': 8}. Best is trial 52 with value: 0.775178849697113.\n",
      "loc(\"/home/tianhaodong/repo/sp-gated-mlp-kernels/sparsemm_kernels/down_neo.py\":41:49): error: operation scheduled before its operands\n",
      "[I 2024-11-01 20:49:26,506] Trial 60 finished with value: 1.1410921812057495 and parameters: {'BLOCK_SIZE_M': 256, 'BLOCK_SIZE_Q': 64, 'BLOCK_SIZE_N': 64, 'GROUP_SIZE_N': 16, 'num_stages': 4, 'num_warps': 8}. Best is trial 52 with value: 0.775178849697113.\n",
      "[I 2024-11-01 20:49:26,643] Trial 61 finished with value: 0.7819626331329346 and parameters: {'BLOCK_SIZE_M': 128, 'BLOCK_SIZE_Q': 32, 'BLOCK_SIZE_N': 128, 'GROUP_SIZE_N': 2, 'num_stages': 4, 'num_warps': 8}. Best is trial 52 with value: 0.775178849697113.\n",
      "[I 2024-11-01 20:49:26,775] Trial 62 finished with value: 0.7789556980133057 and parameters: {'BLOCK_SIZE_M': 128, 'BLOCK_SIZE_Q': 32, 'BLOCK_SIZE_N': 128, 'GROUP_SIZE_N': 2, 'num_stages': 4, 'num_warps': 8}. Best is trial 52 with value: 0.775178849697113.\n",
      "[I 2024-11-01 20:49:26,908] Trial 63 finished with value: 0.7767308950424194 and parameters: {'BLOCK_SIZE_M': 128, 'BLOCK_SIZE_Q': 32, 'BLOCK_SIZE_N': 128, 'GROUP_SIZE_N': 2, 'num_stages': 4, 'num_warps': 8}. Best is trial 52 with value: 0.775178849697113.\n",
      "loc(\"/home/tianhaodong/repo/sp-gated-mlp-kernels/sparsemm_kernels/down_neo.py\":41:49): error: operation scheduled before its operands\n",
      "[I 2024-11-01 20:49:27,275] Trial 64 finished with value: 1.975409746170044 and parameters: {'BLOCK_SIZE_M': 16, 'BLOCK_SIZE_Q': 32, 'BLOCK_SIZE_N': 128, 'GROUP_SIZE_N': 1, 'num_stages': 4, 'num_warps': 8}. Best is trial 52 with value: 0.775178849697113.\n",
      "[I 2024-11-01 20:49:27,409] Trial 65 finished with value: 0.781058669090271 and parameters: {'BLOCK_SIZE_M': 128, 'BLOCK_SIZE_Q': 32, 'BLOCK_SIZE_N': 128, 'GROUP_SIZE_N': 2, 'num_stages': 4, 'num_warps': 8}. Best is trial 52 with value: 0.775178849697113.\n",
      "loc(\"/home/tianhaodong/repo/sp-gated-mlp-kernels/sparsemm_kernels/down_neo.py\":41:49): error: operation scheduled before its operands\n",
      "[I 2024-11-01 20:49:27,779] Trial 66 finished with value: 1.939099907875061 and parameters: {'BLOCK_SIZE_M': 128, 'BLOCK_SIZE_Q': 32, 'BLOCK_SIZE_N': 16, 'GROUP_SIZE_N': 2, 'num_stages': 3, 'num_warps': 8}. Best is trial 52 with value: 0.775178849697113.\n",
      "loc(\"/home/tianhaodong/repo/sp-gated-mlp-kernels/sparsemm_kernels/down_neo.py\":41:49): error: operation scheduled before its operands\n",
      "\u001b[32m2024-11-01 20:49:28.826\u001b[0m | \u001b[33m\u001b[1mWARNING \u001b[0m | \u001b[36msparsemm_kernels.down_neo\u001b[0m:\u001b[36mbench_sparsemm_down_neo\u001b[0m:\u001b[36m119\u001b[0m - \u001b[33m\u001b[1mError in bench_sparsemm_down_neo: out of resource: shared memory, Required: 264192, Hardware limit: 101376. Reducing block sizes or `num_stages` may help.\u001b[0m\n",
      "[I 2024-11-01 20:49:28,828] Trial 67 finished with value: inf and parameters: {'BLOCK_SIZE_M': 128, 'BLOCK_SIZE_Q': 256, 'BLOCK_SIZE_N': 128, 'GROUP_SIZE_N': 2, 'num_stages': 5, 'num_warps': 8}. Best is trial 52 with value: 0.775178849697113.\n",
      "loc(\"/home/tianhaodong/repo/sp-gated-mlp-kernels/sparsemm_kernels/down_neo.py\":41:49): error: operation scheduled before its operands\n",
      "[I 2024-11-01 20:49:29,239] Trial 68 finished with value: 1.1442630290985107 and parameters: {'BLOCK_SIZE_M': 32, 'BLOCK_SIZE_Q': 32, 'BLOCK_SIZE_N': 128, 'GROUP_SIZE_N': 2, 'num_stages': 4, 'num_warps': 8}. Best is trial 52 with value: 0.775178849697113.\n",
      "[I 2024-11-01 20:49:29,370] Trial 69 finished with value: 0.7814133167266846 and parameters: {'BLOCK_SIZE_M': 128, 'BLOCK_SIZE_Q': 32, 'BLOCK_SIZE_N': 128, 'GROUP_SIZE_N': 2, 'num_stages': 4, 'num_warps': 8}. Best is trial 52 with value: 0.775178849697113.\n",
      "loc(\"/home/tianhaodong/repo/sp-gated-mlp-kernels/sparsemm_kernels/down_neo.py\":41:49): error: operation scheduled before its operands\n",
      "[I 2024-11-01 20:49:29,953] Trial 70 finished with value: 1.077532410621643 and parameters: {'BLOCK_SIZE_M': 128, 'BLOCK_SIZE_Q': 64, 'BLOCK_SIZE_N': 128, 'GROUP_SIZE_N': 16, 'num_stages': 4, 'num_warps': 8}. Best is trial 52 with value: 0.775178849697113.\n",
      "[I 2024-11-01 20:49:30,091] Trial 71 finished with value: 0.7762987017631531 and parameters: {'BLOCK_SIZE_M': 128, 'BLOCK_SIZE_Q': 32, 'BLOCK_SIZE_N': 128, 'GROUP_SIZE_N': 2, 'num_stages': 4, 'num_warps': 8}. Best is trial 52 with value: 0.775178849697113.\n",
      "[I 2024-11-01 20:49:30,226] Trial 72 finished with value: 0.7776844501495361 and parameters: {'BLOCK_SIZE_M': 128, 'BLOCK_SIZE_Q': 32, 'BLOCK_SIZE_N': 128, 'GROUP_SIZE_N': 2, 'num_stages': 4, 'num_warps': 8}. Best is trial 52 with value: 0.775178849697113.\n",
      "[I 2024-11-01 20:49:30,358] Trial 73 finished with value: 0.7813781499862671 and parameters: {'BLOCK_SIZE_M': 128, 'BLOCK_SIZE_Q': 32, 'BLOCK_SIZE_N': 128, 'GROUP_SIZE_N': 2, 'num_stages': 4, 'num_warps': 8}. Best is trial 52 with value: 0.775178849697113.\n",
      "loc(\"/home/tianhaodong/repo/sp-gated-mlp-kernels/sparsemm_kernels/down_neo.py\":41:49): error: operation scheduled before its operands\n",
      "[I 2024-11-01 20:49:30,704] Trial 74 finished with value: 1.9765475988388062 and parameters: {'BLOCK_SIZE_M': 16, 'BLOCK_SIZE_Q': 32, 'BLOCK_SIZE_N': 128, 'GROUP_SIZE_N': 2, 'num_stages': 4, 'num_warps': 8}. Best is trial 52 with value: 0.775178849697113.\n",
      "loc(\"/home/tianhaodong/repo/sp-gated-mlp-kernels/sparsemm_kernels/down_neo.py\":41:49): error: operation scheduled before its operands\n",
      "[I 2024-11-01 20:49:33,453] Trial 75 finished with value: 3.005985975265503 and parameters: {'BLOCK_SIZE_M': 256, 'BLOCK_SIZE_Q': 32, 'BLOCK_SIZE_N': 256, 'GROUP_SIZE_N': 1, 'num_stages': 4, 'num_warps': 8}. Best is trial 52 with value: 0.775178849697113.\n",
      "[I 2024-11-01 20:49:33,592] Trial 76 finished with value: 1.2253814935684204 and parameters: {'BLOCK_SIZE_M': 128, 'BLOCK_SIZE_Q': 32, 'BLOCK_SIZE_N': 32, 'GROUP_SIZE_N': 2, 'num_stages': 4, 'num_warps': 8}. Best is trial 52 with value: 0.775178849697113.\n",
      "loc(\"/home/tianhaodong/repo/sp-gated-mlp-kernels/sparsemm_kernels/down_neo.py\":41:49): error: operation scheduled before its operands\n",
      "[I 2024-11-01 20:49:34,195] Trial 77 finished with value: 0.782292902469635 and parameters: {'BLOCK_SIZE_M': 128, 'BLOCK_SIZE_Q': 32, 'BLOCK_SIZE_N': 128, 'GROUP_SIZE_N': 4, 'num_stages': 3, 'num_warps': 8}. Best is trial 52 with value: 0.775178849697113.\n",
      "loc(\"/home/tianhaodong/repo/sp-gated-mlp-kernels/sparsemm_kernels/down_neo.py\":41:49): error: operation scheduled before its operands\n",
      "[I 2024-11-01 20:49:34,770] Trial 78 finished with value: 0.7787358164787292 and parameters: {'BLOCK_SIZE_M': 128, 'BLOCK_SIZE_Q': 32, 'BLOCK_SIZE_N': 128, 'GROUP_SIZE_N': 2, 'num_stages': 5, 'num_warps': 8}. Best is trial 52 with value: 0.775178849697113.\n",
      "[I 2024-11-01 20:49:34,904] Trial 79 finished with value: 0.7788828015327454 and parameters: {'BLOCK_SIZE_M': 128, 'BLOCK_SIZE_Q': 32, 'BLOCK_SIZE_N': 128, 'GROUP_SIZE_N': 2, 'num_stages': 4, 'num_warps': 8}. Best is trial 52 with value: 0.775178849697113.\n",
      "loc(\"/home/tianhaodong/repo/sp-gated-mlp-kernels/sparsemm_kernels/down_neo.py\":41:49): error: operation scheduled before its operands\n",
      "[I 2024-11-01 20:49:35,368] Trial 80 finished with value: 5.470931529998779 and parameters: {'BLOCK_SIZE_M': 32, 'BLOCK_SIZE_Q': 256, 'BLOCK_SIZE_N': 16, 'GROUP_SIZE_N': 2, 'num_stages': 4, 'num_warps': 8}. Best is trial 52 with value: 0.775178849697113.\n",
      "[I 2024-11-01 20:49:35,506] Trial 81 finished with value: 0.7734186053276062 and parameters: {'BLOCK_SIZE_M': 128, 'BLOCK_SIZE_Q': 32, 'BLOCK_SIZE_N': 128, 'GROUP_SIZE_N': 2, 'num_stages': 4, 'num_warps': 8}. Best is trial 81 with value: 0.7734186053276062.\n",
      "[I 2024-11-01 20:49:35,641] Trial 82 finished with value: 0.7808000445365906 and parameters: {'BLOCK_SIZE_M': 128, 'BLOCK_SIZE_Q': 32, 'BLOCK_SIZE_N': 128, 'GROUP_SIZE_N': 2, 'num_stages': 4, 'num_warps': 8}. Best is trial 81 with value: 0.7734186053276062.\n",
      "[I 2024-11-01 20:49:35,775] Trial 83 finished with value: 0.7803533673286438 and parameters: {'BLOCK_SIZE_M': 128, 'BLOCK_SIZE_Q': 32, 'BLOCK_SIZE_N': 128, 'GROUP_SIZE_N': 2, 'num_stages': 4, 'num_warps': 8}. Best is trial 81 with value: 0.7734186053276062.\n",
      "loc(\"/home/tianhaodong/repo/sp-gated-mlp-kernels/sparsemm_kernels/down_neo.py\":41:49): error: operation scheduled before its operands\n",
      "\u001b[32m2024-11-01 20:49:36.440\u001b[0m | \u001b[33m\u001b[1mWARNING \u001b[0m | \u001b[36msparsemm_kernels.down_neo\u001b[0m:\u001b[36mbench_sparsemm_down_neo\u001b[0m:\u001b[36m119\u001b[0m - \u001b[33m\u001b[1mError in bench_sparsemm_down_neo: out of resource: shared memory, Required: 132096, Hardware limit: 101376. Reducing block sizes or `num_stages` may help.\u001b[0m\n",
      "[I 2024-11-01 20:49:36,442] Trial 84 finished with value: inf and parameters: {'BLOCK_SIZE_M': 128, 'BLOCK_SIZE_Q': 128, 'BLOCK_SIZE_N': 128, 'GROUP_SIZE_N': 2, 'num_stages': 4, 'num_warps': 8}. Best is trial 81 with value: 0.7734186053276062.\n",
      "[I 2024-11-01 20:49:36,581] Trial 85 finished with value: 0.7830933928489685 and parameters: {'BLOCK_SIZE_M': 128, 'BLOCK_SIZE_Q': 32, 'BLOCK_SIZE_N': 128, 'GROUP_SIZE_N': 2, 'num_stages': 4, 'num_warps': 8}. Best is trial 81 with value: 0.7734186053276062.\n",
      "[I 2024-11-01 20:49:36,714] Trial 86 finished with value: 0.779638409614563 and parameters: {'BLOCK_SIZE_M': 128, 'BLOCK_SIZE_Q': 32, 'BLOCK_SIZE_N': 128, 'GROUP_SIZE_N': 2, 'num_stages': 4, 'num_warps': 8}. Best is trial 81 with value: 0.7734186053276062.\n",
      "[I 2024-11-01 20:49:36,849] Trial 87 finished with value: 1.0183814764022827 and parameters: {'BLOCK_SIZE_M': 128, 'BLOCK_SIZE_Q': 32, 'BLOCK_SIZE_N': 64, 'GROUP_SIZE_N': 2, 'num_stages': 4, 'num_warps': 8}. Best is trial 81 with value: 0.7734186053276062.\n",
      "[I 2024-11-01 20:49:36,984] Trial 88 finished with value: 1.0822827816009521 and parameters: {'BLOCK_SIZE_M': 128, 'BLOCK_SIZE_Q': 64, 'BLOCK_SIZE_N': 128, 'GROUP_SIZE_N': 16, 'num_stages': 4, 'num_warps': 8}. Best is trial 81 with value: 0.7734186053276062.\n",
      "loc(\"/home/tianhaodong/repo/sp-gated-mlp-kernels/sparsemm_kernels/down_neo.py\":41:49): error: operation scheduled before its operands\n",
      "[I 2024-11-01 20:49:37,949] Trial 89 finished with value: 1.1124966144561768 and parameters: {'BLOCK_SIZE_M': 256, 'BLOCK_SIZE_Q': 32, 'BLOCK_SIZE_N': 128, 'GROUP_SIZE_N': 1, 'num_stages': 4, 'num_warps': 8}. Best is trial 81 with value: 0.7734186053276062.\n",
      "loc(\"/home/tianhaodong/repo/sp-gated-mlp-kernels/sparsemm_kernels/down_neo.py\":41:49): error: operation scheduled before its operands\n",
      "[I 2024-11-01 20:49:38,352] Trial 90 finished with value: 1.988471508026123 and parameters: {'BLOCK_SIZE_M': 16, 'BLOCK_SIZE_Q': 32, 'BLOCK_SIZE_N': 128, 'GROUP_SIZE_N': 4, 'num_stages': 3, 'num_warps': 8}. Best is trial 81 with value: 0.7734186053276062.\n",
      "[I 2024-11-01 20:49:38,485] Trial 91 finished with value: 0.7762690782546997 and parameters: {'BLOCK_SIZE_M': 128, 'BLOCK_SIZE_Q': 32, 'BLOCK_SIZE_N': 128, 'GROUP_SIZE_N': 2, 'num_stages': 4, 'num_warps': 8}. Best is trial 81 with value: 0.7734186053276062.\n",
      "[I 2024-11-01 20:49:38,617] Trial 92 finished with value: 0.7842077612876892 and parameters: {'BLOCK_SIZE_M': 128, 'BLOCK_SIZE_Q': 32, 'BLOCK_SIZE_N': 128, 'GROUP_SIZE_N': 2, 'num_stages': 4, 'num_warps': 8}. Best is trial 81 with value: 0.7734186053276062.\n",
      "[I 2024-11-01 20:49:38,749] Trial 93 finished with value: 0.7808936238288879 and parameters: {'BLOCK_SIZE_M': 128, 'BLOCK_SIZE_Q': 32, 'BLOCK_SIZE_N': 128, 'GROUP_SIZE_N': 2, 'num_stages': 4, 'num_warps': 8}. Best is trial 81 with value: 0.7734186053276062.\n",
      "[I 2024-11-01 20:49:38,881] Trial 94 finished with value: 0.7779757380485535 and parameters: {'BLOCK_SIZE_M': 128, 'BLOCK_SIZE_Q': 32, 'BLOCK_SIZE_N': 128, 'GROUP_SIZE_N': 2, 'num_stages': 4, 'num_warps': 8}. Best is trial 81 with value: 0.7734186053276062.\n",
      "[I 2024-11-01 20:49:39,016] Trial 95 finished with value: 1.1376338005065918 and parameters: {'BLOCK_SIZE_M': 128, 'BLOCK_SIZE_Q': 32, 'BLOCK_SIZE_N': 256, 'GROUP_SIZE_N': 2, 'num_stages': 4, 'num_warps': 8}. Best is trial 81 with value: 0.7734186053276062.\n",
      "[I 2024-11-01 20:49:39,152] Trial 96 finished with value: 0.7794880270957947 and parameters: {'BLOCK_SIZE_M': 128, 'BLOCK_SIZE_Q': 32, 'BLOCK_SIZE_N': 128, 'GROUP_SIZE_N': 2, 'num_stages': 5, 'num_warps': 8}. Best is trial 81 with value: 0.7734186053276062.\n",
      "\u001b[32m2024-11-01 20:49:39.161\u001b[0m | \u001b[33m\u001b[1mWARNING \u001b[0m | \u001b[36msparsemm_kernels.down_neo\u001b[0m:\u001b[36mbench_sparsemm_down_neo\u001b[0m:\u001b[36m119\u001b[0m - \u001b[33m\u001b[1mError in bench_sparsemm_down_neo: out of resource: shared memory, Required: 132096, Hardware limit: 101376. Reducing block sizes or `num_stages` may help.\u001b[0m\n",
      "[I 2024-11-01 20:49:39,163] Trial 97 finished with value: inf and parameters: {'BLOCK_SIZE_M': 128, 'BLOCK_SIZE_Q': 128, 'BLOCK_SIZE_N': 128, 'GROUP_SIZE_N': 2, 'num_stages': 4, 'num_warps': 8}. Best is trial 81 with value: 0.7734186053276062.\n",
      "[I 2024-11-01 20:49:39,303] Trial 98 finished with value: 1.1727540493011475 and parameters: {'BLOCK_SIZE_M': 128, 'BLOCK_SIZE_Q': 32, 'BLOCK_SIZE_N': 32, 'GROUP_SIZE_N': 2, 'num_stages': 4, 'num_warps': 8}. Best is trial 81 with value: 0.7734186053276062.\n",
      "[I 2024-11-01 20:49:39,432] Trial 99 finished with value: 0.7813119888305664 and parameters: {'BLOCK_SIZE_M': 128, 'BLOCK_SIZE_Q': 32, 'BLOCK_SIZE_N': 128, 'GROUP_SIZE_N': 2, 'num_stages': 4, 'num_warps': 8}. Best is trial 81 with value: 0.7734186053276062.\n"
     ]
    },
    {
     "data": {
      "text/plain": [
       "({'BLOCK_SIZE_M': 128,\n",
       "  'BLOCK_SIZE_Q': 32,\n",
       "  'BLOCK_SIZE_N': 128,\n",
       "  'GROUP_SIZE_N': 2,\n",
       "  'num_stages': 4,\n",
       "  'num_warps': 8},\n",
       " 0.7734186053276062)"
      ]
     },
     "execution_count": 7,
     "metadata": {},
     "output_type": "execute_result"
    }
   ],
   "source": [
    "from sparsemm_kernels.down_neo import bench_sparsemm_down_neo\n",
    "\n",
    "autotune(\n",
    "    bench_sparsemm_down_neo,\n",
    "    (BATCH_SIZE, EMBED_DIM, HIDDEN_DIM, P, Q),\n",
    "    {\n",
    "        \"BLOCK_SIZE_M\": [16, 32, 64, 128, 256],\n",
    "        \"BLOCK_SIZE_Q\": [16, 32, 64, 128, 256],\n",
    "        \"BLOCK_SIZE_N\": [16, 32, 64, 128, 256],\n",
    "        \"GROUP_SIZE_N\": [1, 2, 4, 8, 16],\n",
    "        \"num_stages\": [2, 3, 4, 5],\n",
    "        \"num_warps\": [4, 8],\n",
    "    },\n",
    "    n_trials=100\n",
    ")"
   ]
  },
  {
   "cell_type": "code",
   "execution_count": 6,
   "metadata": {},
   "outputs": [
    {
     "name": "stderr",
     "output_type": "stream",
     "text": [
      "[I 2024-11-01 20:47:52,705] A new study created in memory with name: no-name-583d6bf5-372f-4175-8ace-fefb4cb67e9b\n",
      "[I 2024-11-01 20:47:53,445] Trial 0 finished with value: 3.661696195602417 and parameters: {'BLOCK_SIZE_M': 64, 'BLOCK_SIZE_Q': 64, 'BLOCK_SIZE_N': 256, 'GROUP_SIZE_Q': 8, 'num_stages': 5, 'num_warps': 8}. Best is trial 0 with value: 3.661696195602417.\n",
      "[I 2024-11-01 20:47:53,847] Trial 1 finished with value: 5.247544765472412 and parameters: {'BLOCK_SIZE_M': 64, 'BLOCK_SIZE_Q': 64, 'BLOCK_SIZE_N': 16, 'GROUP_SIZE_Q': 4, 'num_stages': 5, 'num_warps': 4}. Best is trial 0 with value: 3.661696195602417.\n",
      "[I 2024-11-01 20:47:54,595] Trial 2 finished with value: 8.762088775634766 and parameters: {'BLOCK_SIZE_M': 256, 'BLOCK_SIZE_Q': 32, 'BLOCK_SIZE_N': 64, 'GROUP_SIZE_Q': 4, 'num_stages': 3, 'num_warps': 4}. Best is trial 0 with value: 3.661696195602417.\n",
      "\u001b[32m2024-11-01 20:47:55.919\u001b[0m | \u001b[33m\u001b[1mWARNING \u001b[0m | \u001b[36msparsemm_kernels.down_splitk\u001b[0m:\u001b[36mbench_sparsemm_down_splitk\u001b[0m:\u001b[36m118\u001b[0m - \u001b[33m\u001b[1mError in bench_sparsemm_down_splitk: out of resource: shared memory, Required: 139264, Hardware limit: 101376. Reducing block sizes or `num_stages` may help.\u001b[0m\n",
      "[I 2024-11-01 20:47:55,920] Trial 3 finished with value: inf and parameters: {'BLOCK_SIZE_M': 256, 'BLOCK_SIZE_Q': 256, 'BLOCK_SIZE_N': 16, 'GROUP_SIZE_Q': 4, 'num_stages': 4, 'num_warps': 4}. Best is trial 0 with value: 3.661696195602417.\n",
      "[I 2024-11-01 20:47:56,286] Trial 4 finished with value: 9.581670761108398 and parameters: {'BLOCK_SIZE_M': 32, 'BLOCK_SIZE_Q': 16, 'BLOCK_SIZE_N': 128, 'GROUP_SIZE_Q': 2, 'num_stages': 5, 'num_warps': 8}. Best is trial 0 with value: 3.661696195602417.\n",
      "[I 2024-11-01 20:47:56,661] Trial 5 finished with value: 6.444096088409424 and parameters: {'BLOCK_SIZE_M': 32, 'BLOCK_SIZE_Q': 32, 'BLOCK_SIZE_N': 32, 'GROUP_SIZE_Q': 1, 'num_stages': 2, 'num_warps': 4}. Best is trial 0 with value: 3.661696195602417.\n",
      "[I 2024-11-01 20:47:57,134] Trial 6 finished with value: 7.336172103881836 and parameters: {'BLOCK_SIZE_M': 16, 'BLOCK_SIZE_Q': 32, 'BLOCK_SIZE_N': 256, 'GROUP_SIZE_Q': 16, 'num_stages': 2, 'num_warps': 4}. Best is trial 0 with value: 3.661696195602417.\n",
      "[I 2024-11-01 20:47:57,744] Trial 7 finished with value: 6.76432466506958 and parameters: {'BLOCK_SIZE_M': 256, 'BLOCK_SIZE_Q': 64, 'BLOCK_SIZE_N': 16, 'GROUP_SIZE_Q': 4, 'num_stages': 3, 'num_warps': 4}. Best is trial 0 with value: 3.661696195602417.\n",
      "\u001b[32m2024-11-01 20:47:58.507\u001b[0m | \u001b[33m\u001b[1mWARNING \u001b[0m | \u001b[36msparsemm_kernels.down_splitk\u001b[0m:\u001b[36mbench_sparsemm_down_splitk\u001b[0m:\u001b[36m118\u001b[0m - \u001b[33m\u001b[1mError in bench_sparsemm_down_splitk: out of resource: shared memory, Required: 147456, Hardware limit: 101376. Reducing block sizes or `num_stages` may help.\u001b[0m\n",
      "[I 2024-11-01 20:47:58,509] Trial 8 finished with value: inf and parameters: {'BLOCK_SIZE_M': 256, 'BLOCK_SIZE_Q': 256, 'BLOCK_SIZE_N': 32, 'GROUP_SIZE_Q': 2, 'num_stages': 3, 'num_warps': 8}. Best is trial 0 with value: 3.661696195602417.\n",
      "[I 2024-11-01 20:47:58,653] Trial 9 finished with value: 3.1736230850219727 and parameters: {'BLOCK_SIZE_M': 16, 'BLOCK_SIZE_Q': 256, 'BLOCK_SIZE_N': 64, 'GROUP_SIZE_Q': 8, 'num_stages': 4, 'num_warps': 8}. Best is trial 9 with value: 3.1736230850219727.\n",
      "[I 2024-11-01 20:47:59,226] Trial 10 finished with value: 2.273203134536743 and parameters: {'BLOCK_SIZE_M': 128, 'BLOCK_SIZE_Q': 128, 'BLOCK_SIZE_N': 64, 'GROUP_SIZE_Q': 8, 'num_stages': 4, 'num_warps': 8}. Best is trial 10 with value: 2.273203134536743.\n",
      "[I 2024-11-01 20:47:59,369] Trial 11 finished with value: 2.278242349624634 and parameters: {'BLOCK_SIZE_M': 128, 'BLOCK_SIZE_Q': 128, 'BLOCK_SIZE_N': 64, 'GROUP_SIZE_Q': 8, 'num_stages': 4, 'num_warps': 8}. Best is trial 10 with value: 2.273203134536743.\n",
      "[I 2024-11-01 20:47:59,512] Trial 12 finished with value: 2.282233476638794 and parameters: {'BLOCK_SIZE_M': 128, 'BLOCK_SIZE_Q': 128, 'BLOCK_SIZE_N': 64, 'GROUP_SIZE_Q': 8, 'num_stages': 4, 'num_warps': 8}. Best is trial 10 with value: 2.273203134536743.\n",
      "[I 2024-11-01 20:47:59,655] Trial 13 finished with value: 2.2817344665527344 and parameters: {'BLOCK_SIZE_M': 128, 'BLOCK_SIZE_Q': 128, 'BLOCK_SIZE_N': 64, 'GROUP_SIZE_Q': 8, 'num_stages': 4, 'num_warps': 8}. Best is trial 10 with value: 2.273203134536743.\n",
      "[I 2024-11-01 20:47:59,797] Trial 14 finished with value: 2.2777962684631348 and parameters: {'BLOCK_SIZE_M': 128, 'BLOCK_SIZE_Q': 128, 'BLOCK_SIZE_N': 64, 'GROUP_SIZE_Q': 8, 'num_stages': 4, 'num_warps': 8}. Best is trial 10 with value: 2.273203134536743.\n",
      "[I 2024-11-01 20:48:00,636] Trial 15 finished with value: 3.130721092224121 and parameters: {'BLOCK_SIZE_M': 128, 'BLOCK_SIZE_Q': 128, 'BLOCK_SIZE_N': 128, 'GROUP_SIZE_Q': 16, 'num_stages': 4, 'num_warps': 8}. Best is trial 10 with value: 2.273203134536743.\n",
      "[I 2024-11-01 20:48:01,266] Trial 16 finished with value: 2.0465662479400635 and parameters: {'BLOCK_SIZE_M': 128, 'BLOCK_SIZE_Q': 128, 'BLOCK_SIZE_N': 64, 'GROUP_SIZE_Q': 1, 'num_stages': 4, 'num_warps': 8}. Best is trial 16 with value: 2.0465662479400635.\n",
      "[I 2024-11-01 20:48:01,680] Trial 17 finished with value: 9.311539649963379 and parameters: {'BLOCK_SIZE_M': 128, 'BLOCK_SIZE_Q': 16, 'BLOCK_SIZE_N': 64, 'GROUP_SIZE_Q': 1, 'num_stages': 4, 'num_warps': 8}. Best is trial 16 with value: 2.0465662479400635.\n",
      "[I 2024-11-01 20:48:02,329] Trial 18 finished with value: 2.0710630416870117 and parameters: {'BLOCK_SIZE_M': 128, 'BLOCK_SIZE_Q': 128, 'BLOCK_SIZE_N': 64, 'GROUP_SIZE_Q': 1, 'num_stages': 2, 'num_warps': 8}. Best is trial 16 with value: 2.0465662479400635.\n",
      "[I 2024-11-01 20:48:03,102] Trial 19 finished with value: 2.989499807357788 and parameters: {'BLOCK_SIZE_M': 128, 'BLOCK_SIZE_Q': 128, 'BLOCK_SIZE_N': 128, 'GROUP_SIZE_Q': 1, 'num_stages': 2, 'num_warps': 8}. Best is trial 16 with value: 2.0465662479400635.\n",
      "[I 2024-11-01 20:48:03,665] Trial 20 finished with value: 4.292003154754639 and parameters: {'BLOCK_SIZE_M': 16, 'BLOCK_SIZE_Q': 128, 'BLOCK_SIZE_N': 256, 'GROUP_SIZE_Q': 1, 'num_stages': 2, 'num_warps': 8}. Best is trial 16 with value: 2.0465662479400635.\n",
      "[I 2024-11-01 20:48:03,808] Trial 21 finished with value: 2.0595498085021973 and parameters: {'BLOCK_SIZE_M': 128, 'BLOCK_SIZE_Q': 128, 'BLOCK_SIZE_N': 64, 'GROUP_SIZE_Q': 1, 'num_stages': 2, 'num_warps': 8}. Best is trial 16 with value: 2.0465662479400635.\n",
      "[I 2024-11-01 20:48:03,948] Trial 22 finished with value: 2.061628818511963 and parameters: {'BLOCK_SIZE_M': 128, 'BLOCK_SIZE_Q': 128, 'BLOCK_SIZE_N': 64, 'GROUP_SIZE_Q': 1, 'num_stages': 2, 'num_warps': 8}. Best is trial 16 with value: 2.0465662479400635.\n",
      "[I 2024-11-01 20:48:04,088] Trial 23 finished with value: 2.0486338138580322 and parameters: {'BLOCK_SIZE_M': 128, 'BLOCK_SIZE_Q': 128, 'BLOCK_SIZE_N': 64, 'GROUP_SIZE_Q': 1, 'num_stages': 2, 'num_warps': 8}. Best is trial 16 with value: 2.0465662479400635.\n",
      "[I 2024-11-01 20:48:04,228] Trial 24 finished with value: 2.060946226119995 and parameters: {'BLOCK_SIZE_M': 128, 'BLOCK_SIZE_Q': 128, 'BLOCK_SIZE_N': 64, 'GROUP_SIZE_Q': 1, 'num_stages': 2, 'num_warps': 8}. Best is trial 16 with value: 2.0465662479400635.\n",
      "[I 2024-11-01 20:48:04,594] Trial 25 finished with value: 11.668992042541504 and parameters: {'BLOCK_SIZE_M': 64, 'BLOCK_SIZE_Q': 16, 'BLOCK_SIZE_N': 32, 'GROUP_SIZE_Q': 1, 'num_stages': 2, 'num_warps': 8}. Best is trial 16 with value: 2.0465662479400635.\n",
      "[I 2024-11-01 20:48:05,027] Trial 26 finished with value: 2.5084004402160645 and parameters: {'BLOCK_SIZE_M': 32, 'BLOCK_SIZE_Q': 128, 'BLOCK_SIZE_N': 64, 'GROUP_SIZE_Q': 1, 'num_stages': 2, 'num_warps': 8}. Best is trial 16 with value: 2.0465662479400635.\n",
      "[I 2024-11-01 20:48:05,161] Trial 27 finished with value: 2.0785624980926514 and parameters: {'BLOCK_SIZE_M': 128, 'BLOCK_SIZE_Q': 128, 'BLOCK_SIZE_N': 64, 'GROUP_SIZE_Q': 1, 'num_stages': 2, 'num_warps': 8}. Best is trial 16 with value: 2.0465662479400635.\n",
      "[I 2024-11-01 20:48:05,757] Trial 28 finished with value: 2.0700626373291016 and parameters: {'BLOCK_SIZE_M': 128, 'BLOCK_SIZE_Q': 128, 'BLOCK_SIZE_N': 64, 'GROUP_SIZE_Q': 1, 'num_stages': 5, 'num_warps': 8}. Best is trial 16 with value: 2.0465662479400635.\n",
      "[I 2024-11-01 20:48:06,347] Trial 29 finished with value: 3.3013761043548584 and parameters: {'BLOCK_SIZE_M': 64, 'BLOCK_SIZE_Q': 64, 'BLOCK_SIZE_N': 256, 'GROUP_SIZE_Q': 2, 'num_stages': 3, 'num_warps': 8}. Best is trial 16 with value: 2.0465662479400635.\n",
      "[I 2024-11-01 20:48:06,880] Trial 30 finished with value: 12.901667594909668 and parameters: {'BLOCK_SIZE_M': 128, 'BLOCK_SIZE_Q': 16, 'BLOCK_SIZE_N': 128, 'GROUP_SIZE_Q': 16, 'num_stages': 5, 'num_warps': 8}. Best is trial 16 with value: 2.0465662479400635.\n",
      "[I 2024-11-01 20:48:07,025] Trial 31 finished with value: 2.064523935317993 and parameters: {'BLOCK_SIZE_M': 128, 'BLOCK_SIZE_Q': 128, 'BLOCK_SIZE_N': 64, 'GROUP_SIZE_Q': 1, 'num_stages': 2, 'num_warps': 8}. Best is trial 16 with value: 2.0465662479400635.\n",
      "[I 2024-11-01 20:48:07,165] Trial 32 finished with value: 2.060751438140869 and parameters: {'BLOCK_SIZE_M': 128, 'BLOCK_SIZE_Q': 128, 'BLOCK_SIZE_N': 64, 'GROUP_SIZE_Q': 1, 'num_stages': 2, 'num_warps': 8}. Best is trial 16 with value: 2.0465662479400635.\n",
      "[I 2024-11-01 20:48:07,571] Trial 33 finished with value: 2.8693082332611084 and parameters: {'BLOCK_SIZE_M': 64, 'BLOCK_SIZE_Q': 64, 'BLOCK_SIZE_N': 64, 'GROUP_SIZE_Q': 1, 'num_stages': 2, 'num_warps': 8}. Best is trial 16 with value: 2.0465662479400635.\n",
      "[I 2024-11-01 20:48:08,006] Trial 34 finished with value: 8.182015419006348 and parameters: {'BLOCK_SIZE_M': 128, 'BLOCK_SIZE_Q': 32, 'BLOCK_SIZE_N': 16, 'GROUP_SIZE_Q': 1, 'num_stages': 2, 'num_warps': 4}. Best is trial 16 with value: 2.0465662479400635.\n",
      "[I 2024-11-01 20:48:08,164] Trial 35 finished with value: 2.457395076751709 and parameters: {'BLOCK_SIZE_M': 32, 'BLOCK_SIZE_Q': 128, 'BLOCK_SIZE_N': 64, 'GROUP_SIZE_Q': 4, 'num_stages': 2, 'num_warps': 8}. Best is trial 16 with value: 2.0465662479400635.\n",
      "[I 2024-11-01 20:48:09,040] Trial 36 finished with value: 4.447573661804199 and parameters: {'BLOCK_SIZE_M': 128, 'BLOCK_SIZE_Q': 256, 'BLOCK_SIZE_N': 16, 'GROUP_SIZE_Q': 1, 'num_stages': 5, 'num_warps': 4}. Best is trial 16 with value: 2.0465662479400635.\n",
      "[I 2024-11-01 20:48:09,752] Trial 37 finished with value: 3.5449304580688477 and parameters: {'BLOCK_SIZE_M': 256, 'BLOCK_SIZE_Q': 128, 'BLOCK_SIZE_N': 32, 'GROUP_SIZE_Q': 1, 'num_stages': 2, 'num_warps': 8}. Best is trial 16 with value: 2.0465662479400635.\n",
      "[I 2024-11-01 20:48:10,283] Trial 38 finished with value: 6.269631862640381 and parameters: {'BLOCK_SIZE_M': 16, 'BLOCK_SIZE_Q': 32, 'BLOCK_SIZE_N': 256, 'GROUP_SIZE_Q': 2, 'num_stages': 3, 'num_warps': 4}. Best is trial 16 with value: 2.0465662479400635.\n",
      "[I 2024-11-01 20:48:10,644] Trial 39 finished with value: 3.333747625350952 and parameters: {'BLOCK_SIZE_M': 32, 'BLOCK_SIZE_Q': 64, 'BLOCK_SIZE_N': 64, 'GROUP_SIZE_Q': 4, 'num_stages': 2, 'num_warps': 8}. Best is trial 16 with value: 2.0465662479400635.\n",
      "\u001b[32m2024-11-01 20:48:12.902\u001b[0m | \u001b[33m\u001b[1mWARNING \u001b[0m | \u001b[36msparsemm_kernels.down_splitk\u001b[0m:\u001b[36mbench_sparsemm_down_splitk\u001b[0m:\u001b[36m118\u001b[0m - \u001b[33m\u001b[1mError in bench_sparsemm_down_splitk: out of resource: shared memory, Required: 163840, Hardware limit: 101376. Reducing block sizes or `num_stages` may help.\u001b[0m\n",
      "[I 2024-11-01 20:48:12,903] Trial 40 finished with value: inf and parameters: {'BLOCK_SIZE_M': 256, 'BLOCK_SIZE_Q': 256, 'BLOCK_SIZE_N': 64, 'GROUP_SIZE_Q': 16, 'num_stages': 5, 'num_warps': 4}. Best is trial 16 with value: 2.0465662479400635.\n",
      "[I 2024-11-01 20:48:13,050] Trial 41 finished with value: 2.205491065979004 and parameters: {'BLOCK_SIZE_M': 128, 'BLOCK_SIZE_Q': 128, 'BLOCK_SIZE_N': 64, 'GROUP_SIZE_Q': 1, 'num_stages': 2, 'num_warps': 8}. Best is trial 16 with value: 2.0465662479400635.\n",
      "[I 2024-11-01 20:48:13,195] Trial 42 finished with value: 2.199475049972534 and parameters: {'BLOCK_SIZE_M': 128, 'BLOCK_SIZE_Q': 128, 'BLOCK_SIZE_N': 64, 'GROUP_SIZE_Q': 1, 'num_stages': 2, 'num_warps': 8}. Best is trial 16 with value: 2.0465662479400635.\n",
      "[I 2024-11-01 20:48:13,336] Trial 43 finished with value: 2.0600197315216064 and parameters: {'BLOCK_SIZE_M': 128, 'BLOCK_SIZE_Q': 128, 'BLOCK_SIZE_N': 64, 'GROUP_SIZE_Q': 1, 'num_stages': 2, 'num_warps': 8}. Best is trial 16 with value: 2.0465662479400635.\n",
      "[I 2024-11-01 20:48:13,790] Trial 44 finished with value: 3.7938411235809326 and parameters: {'BLOCK_SIZE_M': 128, 'BLOCK_SIZE_Q': 128, 'BLOCK_SIZE_N': 16, 'GROUP_SIZE_Q': 1, 'num_stages': 2, 'num_warps': 8}. Best is trial 16 with value: 2.0465662479400635.\n",
      "[I 2024-11-01 20:48:14,381] Trial 45 finished with value: 2.0651750564575195 and parameters: {'BLOCK_SIZE_M': 128, 'BLOCK_SIZE_Q': 128, 'BLOCK_SIZE_N': 64, 'GROUP_SIZE_Q': 1, 'num_stages': 3, 'num_warps': 8}. Best is trial 16 with value: 2.0465662479400635.\n",
      "[I 2024-11-01 20:48:14,750] Trial 46 finished with value: 8.043007850646973 and parameters: {'BLOCK_SIZE_M': 16, 'BLOCK_SIZE_Q': 32, 'BLOCK_SIZE_N': 32, 'GROUP_SIZE_Q': 2, 'num_stages': 4, 'num_warps': 8}. Best is trial 16 with value: 2.0465662479400635.\n",
      "[I 2024-11-01 20:48:15,314] Trial 47 finished with value: 2.1470844745635986 and parameters: {'BLOCK_SIZE_M': 128, 'BLOCK_SIZE_Q': 128, 'BLOCK_SIZE_N': 64, 'GROUP_SIZE_Q': 4, 'num_stages': 2, 'num_warps': 8}. Best is trial 16 with value: 2.0465662479400635.\n",
      "[I 2024-11-01 20:48:15,955] Trial 48 finished with value: 2.370455026626587 and parameters: {'BLOCK_SIZE_M': 64, 'BLOCK_SIZE_Q': 128, 'BLOCK_SIZE_N': 64, 'GROUP_SIZE_Q': 1, 'num_stages': 4, 'num_warps': 4}. Best is trial 16 with value: 2.0465662479400635.\n",
      "\u001b[32m2024-11-01 20:48:16.888\u001b[0m | \u001b[33m\u001b[1mWARNING \u001b[0m | \u001b[36msparsemm_kernels.down_splitk\u001b[0m:\u001b[36mbench_sparsemm_down_splitk\u001b[0m:\u001b[36m118\u001b[0m - \u001b[33m\u001b[1mError in bench_sparsemm_down_splitk: out of resource: shared memory, Required: 131072, Hardware limit: 101376. Reducing block sizes or `num_stages` may help.\u001b[0m\n",
      "[I 2024-11-01 20:48:16,889] Trial 49 finished with value: inf and parameters: {'BLOCK_SIZE_M': 128, 'BLOCK_SIZE_Q': 256, 'BLOCK_SIZE_N': 128, 'GROUP_SIZE_Q': 1, 'num_stages': 2, 'num_warps': 8}. Best is trial 16 with value: 2.0465662479400635.\n",
      "[I 2024-11-01 20:48:17,433] Trial 50 finished with value: 12.40722370147705 and parameters: {'BLOCK_SIZE_M': 256, 'BLOCK_SIZE_Q': 16, 'BLOCK_SIZE_N': 64, 'GROUP_SIZE_Q': 16, 'num_stages': 4, 'num_warps': 8}. Best is trial 16 with value: 2.0465662479400635.\n",
      "[I 2024-11-01 20:48:17,579] Trial 51 finished with value: 2.023493766784668 and parameters: {'BLOCK_SIZE_M': 128, 'BLOCK_SIZE_Q': 128, 'BLOCK_SIZE_N': 64, 'GROUP_SIZE_Q': 1, 'num_stages': 2, 'num_warps': 8}. Best is trial 51 with value: 2.023493766784668.\n",
      "[I 2024-11-01 20:48:17,719] Trial 52 finished with value: 2.0467565059661865 and parameters: {'BLOCK_SIZE_M': 128, 'BLOCK_SIZE_Q': 128, 'BLOCK_SIZE_N': 64, 'GROUP_SIZE_Q': 1, 'num_stages': 2, 'num_warps': 8}. Best is trial 51 with value: 2.023493766784668.\n",
      "[I 2024-11-01 20:48:17,859] Trial 53 finished with value: 2.046098232269287 and parameters: {'BLOCK_SIZE_M': 128, 'BLOCK_SIZE_Q': 128, 'BLOCK_SIZE_N': 64, 'GROUP_SIZE_Q': 1, 'num_stages': 2, 'num_warps': 8}. Best is trial 51 with value: 2.023493766784668.\n",
      "[I 2024-11-01 20:48:17,997] Trial 54 finished with value: 2.0411248207092285 and parameters: {'BLOCK_SIZE_M': 128, 'BLOCK_SIZE_Q': 128, 'BLOCK_SIZE_N': 64, 'GROUP_SIZE_Q': 1, 'num_stages': 2, 'num_warps': 8}. Best is trial 51 with value: 2.023493766784668.\n",
      "[I 2024-11-01 20:48:18,140] Trial 55 finished with value: 2.0440948009490967 and parameters: {'BLOCK_SIZE_M': 128, 'BLOCK_SIZE_Q': 128, 'BLOCK_SIZE_N': 64, 'GROUP_SIZE_Q': 1, 'num_stages': 2, 'num_warps': 8}. Best is trial 51 with value: 2.023493766784668.\n",
      "[I 2024-11-01 20:48:19,443] Trial 56 finished with value: 3.1244711875915527 and parameters: {'BLOCK_SIZE_M': 128, 'BLOCK_SIZE_Q': 128, 'BLOCK_SIZE_N': 256, 'GROUP_SIZE_Q': 8, 'num_stages': 4, 'num_warps': 8}. Best is trial 51 with value: 2.023493766784668.\n",
      "[I 2024-11-01 20:48:19,594] Trial 57 finished with value: 2.077354669570923 and parameters: {'BLOCK_SIZE_M': 128, 'BLOCK_SIZE_Q': 128, 'BLOCK_SIZE_N': 64, 'GROUP_SIZE_Q': 1, 'num_stages': 2, 'num_warps': 8}. Best is trial 51 with value: 2.023493766784668.\n",
      "[I 2024-11-01 20:48:19,737] Trial 58 finished with value: 2.055691719055176 and parameters: {'BLOCK_SIZE_M': 128, 'BLOCK_SIZE_Q': 128, 'BLOCK_SIZE_N': 64, 'GROUP_SIZE_Q': 1, 'num_stages': 3, 'num_warps': 8}. Best is trial 51 with value: 2.023493766784668.\n",
      "[I 2024-11-01 20:48:20,143] Trial 59 finished with value: 3.815131664276123 and parameters: {'BLOCK_SIZE_M': 16, 'BLOCK_SIZE_Q': 64, 'BLOCK_SIZE_N': 64, 'GROUP_SIZE_Q': 1, 'num_stages': 2, 'num_warps': 8}. Best is trial 51 with value: 2.023493766784668.\n",
      "[I 2024-11-01 20:48:20,644] Trial 60 finished with value: 2.5010018348693848 and parameters: {'BLOCK_SIZE_M': 32, 'BLOCK_SIZE_Q': 128, 'BLOCK_SIZE_N': 128, 'GROUP_SIZE_Q': 2, 'num_stages': 2, 'num_warps': 8}. Best is trial 51 with value: 2.023493766784668.\n",
      "[I 2024-11-01 20:48:20,783] Trial 61 finished with value: 2.0461769104003906 and parameters: {'BLOCK_SIZE_M': 128, 'BLOCK_SIZE_Q': 128, 'BLOCK_SIZE_N': 64, 'GROUP_SIZE_Q': 1, 'num_stages': 2, 'num_warps': 8}. Best is trial 51 with value: 2.023493766784668.\n",
      "[I 2024-11-01 20:48:20,925] Trial 62 finished with value: 2.044975757598877 and parameters: {'BLOCK_SIZE_M': 128, 'BLOCK_SIZE_Q': 128, 'BLOCK_SIZE_N': 64, 'GROUP_SIZE_Q': 1, 'num_stages': 2, 'num_warps': 8}. Best is trial 51 with value: 2.023493766784668.\n",
      "[I 2024-11-01 20:48:21,067] Trial 63 finished with value: 2.0455946922302246 and parameters: {'BLOCK_SIZE_M': 128, 'BLOCK_SIZE_Q': 128, 'BLOCK_SIZE_N': 64, 'GROUP_SIZE_Q': 1, 'num_stages': 2, 'num_warps': 8}. Best is trial 51 with value: 2.023493766784668.\n",
      "[I 2024-11-01 20:48:21,210] Trial 64 finished with value: 2.0449280738830566 and parameters: {'BLOCK_SIZE_M': 128, 'BLOCK_SIZE_Q': 128, 'BLOCK_SIZE_N': 64, 'GROUP_SIZE_Q': 1, 'num_stages': 2, 'num_warps': 8}. Best is trial 51 with value: 2.023493766784668.\n",
      "[I 2024-11-01 20:48:21,352] Trial 65 finished with value: 2.0454044342041016 and parameters: {'BLOCK_SIZE_M': 128, 'BLOCK_SIZE_Q': 128, 'BLOCK_SIZE_N': 64, 'GROUP_SIZE_Q': 1, 'num_stages': 2, 'num_warps': 8}. Best is trial 51 with value: 2.023493766784668.\n",
      "[I 2024-11-01 20:48:21,834] Trial 66 finished with value: 2.674858570098877 and parameters: {'BLOCK_SIZE_M': 128, 'BLOCK_SIZE_Q': 128, 'BLOCK_SIZE_N': 32, 'GROUP_SIZE_Q': 1, 'num_stages': 2, 'num_warps': 8}. Best is trial 51 with value: 2.023493766784668.\n",
      "[I 2024-11-01 20:48:22,278] Trial 67 finished with value: 10.254108428955078 and parameters: {'BLOCK_SIZE_M': 128, 'BLOCK_SIZE_Q': 16, 'BLOCK_SIZE_N': 64, 'GROUP_SIZE_Q': 8, 'num_stages': 2, 'num_warps': 8}. Best is trial 51 with value: 2.023493766784668.\n",
      "[I 2024-11-01 20:48:22,434] Trial 68 finished with value: 3.7688117027282715 and parameters: {'BLOCK_SIZE_M': 128, 'BLOCK_SIZE_Q': 128, 'BLOCK_SIZE_N': 16, 'GROUP_SIZE_Q': 1, 'num_stages': 2, 'num_warps': 8}. Best is trial 51 with value: 2.023493766784668.\n",
      "[I 2024-11-01 20:48:23,004] Trial 69 finished with value: 5.645793914794922 and parameters: {'BLOCK_SIZE_M': 128, 'BLOCK_SIZE_Q': 32, 'BLOCK_SIZE_N': 64, 'GROUP_SIZE_Q': 4, 'num_stages': 2, 'num_warps': 4}. Best is trial 51 with value: 2.023493766784668.\n",
      "[I 2024-11-01 20:48:23,155] Trial 70 finished with value: 2.0614233016967773 and parameters: {'BLOCK_SIZE_M': 64, 'BLOCK_SIZE_Q': 128, 'BLOCK_SIZE_N': 64, 'GROUP_SIZE_Q': 1, 'num_stages': 2, 'num_warps': 8}. Best is trial 51 with value: 2.023493766784668.\n",
      "[I 2024-11-01 20:48:23,295] Trial 71 finished with value: 2.0505223274230957 and parameters: {'BLOCK_SIZE_M': 128, 'BLOCK_SIZE_Q': 128, 'BLOCK_SIZE_N': 64, 'GROUP_SIZE_Q': 1, 'num_stages': 2, 'num_warps': 8}. Best is trial 51 with value: 2.023493766784668.\n",
      "[I 2024-11-01 20:48:23,437] Trial 72 finished with value: 2.0449042320251465 and parameters: {'BLOCK_SIZE_M': 128, 'BLOCK_SIZE_Q': 128, 'BLOCK_SIZE_N': 64, 'GROUP_SIZE_Q': 1, 'num_stages': 2, 'num_warps': 8}. Best is trial 51 with value: 2.023493766784668.\n",
      "[I 2024-11-01 20:48:23,577] Trial 73 finished with value: 2.047804832458496 and parameters: {'BLOCK_SIZE_M': 128, 'BLOCK_SIZE_Q': 128, 'BLOCK_SIZE_N': 64, 'GROUP_SIZE_Q': 1, 'num_stages': 2, 'num_warps': 8}. Best is trial 51 with value: 2.023493766784668.\n",
      "[I 2024-11-01 20:48:23,717] Trial 74 finished with value: 2.060995101928711 and parameters: {'BLOCK_SIZE_M': 128, 'BLOCK_SIZE_Q': 128, 'BLOCK_SIZE_N': 64, 'GROUP_SIZE_Q': 1, 'num_stages': 2, 'num_warps': 8}. Best is trial 51 with value: 2.023493766784668.\n",
      "[I 2024-11-01 20:48:24,877] Trial 75 finished with value: 3.051661252975464 and parameters: {'BLOCK_SIZE_M': 128, 'BLOCK_SIZE_Q': 128, 'BLOCK_SIZE_N': 256, 'GROUP_SIZE_Q': 16, 'num_stages': 5, 'num_warps': 8}. Best is trial 51 with value: 2.023493766784668.\n",
      "[I 2024-11-01 20:48:25,636] Trial 76 finished with value: 2.1775360107421875 and parameters: {'BLOCK_SIZE_M': 128, 'BLOCK_SIZE_Q': 256, 'BLOCK_SIZE_N': 64, 'GROUP_SIZE_Q': 1, 'num_stages': 2, 'num_warps': 8}. Best is trial 51 with value: 2.023493766784668.\n",
      "[I 2024-11-01 20:48:26,400] Trial 77 finished with value: 3.0361602306365967 and parameters: {'BLOCK_SIZE_M': 256, 'BLOCK_SIZE_Q': 128, 'BLOCK_SIZE_N': 64, 'GROUP_SIZE_Q': 1, 'num_stages': 2, 'num_warps': 8}. Best is trial 51 with value: 2.023493766784668.\n",
      "[I 2024-11-01 20:48:26,552] Trial 78 finished with value: 2.0773775577545166 and parameters: {'BLOCK_SIZE_M': 128, 'BLOCK_SIZE_Q': 128, 'BLOCK_SIZE_N': 64, 'GROUP_SIZE_Q': 1, 'num_stages': 2, 'num_warps': 8}. Best is trial 51 with value: 2.023493766784668.\n",
      "[I 2024-11-01 20:48:26,995] Trial 79 finished with value: 3.0908043384552 and parameters: {'BLOCK_SIZE_M': 32, 'BLOCK_SIZE_Q': 64, 'BLOCK_SIZE_N': 128, 'GROUP_SIZE_Q': 1, 'num_stages': 2, 'num_warps': 8}. Best is trial 51 with value: 2.023493766784668.\n",
      "[I 2024-11-01 20:48:27,574] Trial 80 finished with value: 2.294297695159912 and parameters: {'BLOCK_SIZE_M': 128, 'BLOCK_SIZE_Q': 128, 'BLOCK_SIZE_N': 64, 'GROUP_SIZE_Q': 8, 'num_stages': 2, 'num_warps': 8}. Best is trial 51 with value: 2.023493766784668.\n",
      "[I 2024-11-01 20:48:27,719] Trial 81 finished with value: 2.0758864879608154 and parameters: {'BLOCK_SIZE_M': 128, 'BLOCK_SIZE_Q': 128, 'BLOCK_SIZE_N': 64, 'GROUP_SIZE_Q': 1, 'num_stages': 2, 'num_warps': 8}. Best is trial 51 with value: 2.023493766784668.\n",
      "[I 2024-11-01 20:48:27,861] Trial 82 finished with value: 2.061068058013916 and parameters: {'BLOCK_SIZE_M': 128, 'BLOCK_SIZE_Q': 128, 'BLOCK_SIZE_N': 64, 'GROUP_SIZE_Q': 1, 'num_stages': 2, 'num_warps': 8}. Best is trial 51 with value: 2.023493766784668.\n",
      "[I 2024-11-01 20:48:28,001] Trial 83 finished with value: 2.0460498332977295 and parameters: {'BLOCK_SIZE_M': 128, 'BLOCK_SIZE_Q': 128, 'BLOCK_SIZE_N': 64, 'GROUP_SIZE_Q': 1, 'num_stages': 2, 'num_warps': 8}. Best is trial 51 with value: 2.023493766784668.\n",
      "[I 2024-11-01 20:48:28,141] Trial 84 finished with value: 2.0542171001434326 and parameters: {'BLOCK_SIZE_M': 128, 'BLOCK_SIZE_Q': 128, 'BLOCK_SIZE_N': 64, 'GROUP_SIZE_Q': 1, 'num_stages': 2, 'num_warps': 8}. Best is trial 51 with value: 2.023493766784668.\n",
      "[I 2024-11-01 20:48:28,285] Trial 85 finished with value: 2.0615737438201904 and parameters: {'BLOCK_SIZE_M': 128, 'BLOCK_SIZE_Q': 128, 'BLOCK_SIZE_N': 64, 'GROUP_SIZE_Q': 1, 'num_stages': 3, 'num_warps': 8}. Best is trial 51 with value: 2.023493766784668.\n",
      "[I 2024-11-01 20:48:28,777] Trial 86 finished with value: 3.861504554748535 and parameters: {'BLOCK_SIZE_M': 16, 'BLOCK_SIZE_Q': 128, 'BLOCK_SIZE_N': 32, 'GROUP_SIZE_Q': 1, 'num_stages': 2, 'num_warps': 4}. Best is trial 51 with value: 2.023493766784668.\n",
      "[I 2024-11-01 20:48:29,154] Trial 87 finished with value: 8.345344543457031 and parameters: {'BLOCK_SIZE_M': 128, 'BLOCK_SIZE_Q': 32, 'BLOCK_SIZE_N': 16, 'GROUP_SIZE_Q': 2, 'num_stages': 2, 'num_warps': 8}. Best is trial 51 with value: 2.023493766784668.\n",
      "[I 2024-11-01 20:48:29,619] Trial 88 finished with value: 9.45029067993164 and parameters: {'BLOCK_SIZE_M': 128, 'BLOCK_SIZE_Q': 16, 'BLOCK_SIZE_N': 64, 'GROUP_SIZE_Q': 1, 'num_stages': 5, 'num_warps': 8}. Best is trial 51 with value: 2.023493766784668.\n",
      "[I 2024-11-01 20:48:29,768] Trial 89 finished with value: 2.0617897510528564 and parameters: {'BLOCK_SIZE_M': 64, 'BLOCK_SIZE_Q': 128, 'BLOCK_SIZE_N': 64, 'GROUP_SIZE_Q': 4, 'num_stages': 2, 'num_warps': 8}. Best is trial 51 with value: 2.023493766784668.\n",
      "[I 2024-11-01 20:48:29,908] Trial 90 finished with value: 2.068654775619507 and parameters: {'BLOCK_SIZE_M': 128, 'BLOCK_SIZE_Q': 128, 'BLOCK_SIZE_N': 64, 'GROUP_SIZE_Q': 1, 'num_stages': 2, 'num_warps': 8}. Best is trial 51 with value: 2.023493766784668.\n",
      "[I 2024-11-01 20:48:30,051] Trial 91 finished with value: 2.0469284057617188 and parameters: {'BLOCK_SIZE_M': 128, 'BLOCK_SIZE_Q': 128, 'BLOCK_SIZE_N': 64, 'GROUP_SIZE_Q': 1, 'num_stages': 2, 'num_warps': 8}. Best is trial 51 with value: 2.023493766784668.\n",
      "[I 2024-11-01 20:48:30,195] Trial 92 finished with value: 2.0564541816711426 and parameters: {'BLOCK_SIZE_M': 128, 'BLOCK_SIZE_Q': 128, 'BLOCK_SIZE_N': 64, 'GROUP_SIZE_Q': 1, 'num_stages': 2, 'num_warps': 8}. Best is trial 51 with value: 2.023493766784668.\n",
      "[I 2024-11-01 20:48:30,337] Trial 93 finished with value: 2.058166742324829 and parameters: {'BLOCK_SIZE_M': 128, 'BLOCK_SIZE_Q': 128, 'BLOCK_SIZE_N': 64, 'GROUP_SIZE_Q': 1, 'num_stages': 2, 'num_warps': 8}. Best is trial 51 with value: 2.023493766784668.\n",
      "[I 2024-11-01 20:48:30,478] Trial 94 finished with value: 2.0602638721466064 and parameters: {'BLOCK_SIZE_M': 128, 'BLOCK_SIZE_Q': 128, 'BLOCK_SIZE_N': 64, 'GROUP_SIZE_Q': 1, 'num_stages': 2, 'num_warps': 8}. Best is trial 51 with value: 2.023493766784668.\n",
      "[I 2024-11-01 20:48:31,074] Trial 95 finished with value: 2.2685184478759766 and parameters: {'BLOCK_SIZE_M': 128, 'BLOCK_SIZE_Q': 128, 'BLOCK_SIZE_N': 64, 'GROUP_SIZE_Q': 16, 'num_stages': 2, 'num_warps': 8}. Best is trial 51 with value: 2.023493766784668.\n",
      "[W 2024-11-01 20:48:36,824] Trial 96 failed with parameters: {'BLOCK_SIZE_M': 256, 'BLOCK_SIZE_Q': 256, 'BLOCK_SIZE_N': 256, 'GROUP_SIZE_Q': 1, 'num_stages': 2, 'num_warps': 8} because of the following error: KeyboardInterrupt().\n",
      "Traceback (most recent call last):\n",
      "  File \"/home/tianhaodong/anaconda3/lib/python3.12/site-packages/optuna/study/_optimize.py\", line 197, in _run_trial\n",
      "    value_or_values = func(trial)\n",
      "                      ^^^^^^^^^^^\n",
      "  File \"/home/tianhaodong/repo/sp-gated-mlp-kernels/sparsemm_kernels/autotune.py\", line 8, in objective\n",
      "    return bench_fn(*args, **params)\n",
      "           ^^^^^^^^^^^^^^^^^^^^^^^^^\n",
      "  File \"/home/tianhaodong/repo/sp-gated-mlp-kernels/sparsemm_kernels/down_splitk.py\", line 111, in bench_sparsemm_down_splitk\n",
      "    ms = triton.testing.do_bench(lambda: sparsemm_down_splitk(\n",
      "         ^^^^^^^^^^^^^^^^^^^^^^^^^^^^^^^^^^^^^^^^^^^^^^^^^^^^^\n",
      "  File \"/home/tianhaodong/anaconda3/lib/python3.12/site-packages/triton/testing.py\", line 106, in do_bench\n",
      "    fn()\n",
      "  File \"/home/tianhaodong/repo/sp-gated-mlp-kernels/sparsemm_kernels/down_splitk.py\", line 111, in <lambda>\n",
      "    ms = triton.testing.do_bench(lambda: sparsemm_down_splitk(\n",
      "                                         ^^^^^^^^^^^^^^^^^^^^^\n",
      "  File \"/home/tianhaodong/repo/sp-gated-mlp-kernels/sparsemm_kernels/down_splitk.py\", line 87, in sparsemm_down_splitk\n",
      "    sparsemm_down_splitk_kernel[grid](\n",
      "  File \"/home/tianhaodong/anaconda3/lib/python3.12/site-packages/triton/runtime/jit.py\", line 345, in <lambda>\n",
      "    return lambda *args, **kwargs: self.run(grid=grid, warmup=False, *args, **kwargs)\n",
      "                                   ^^^^^^^^^^^^^^^^^^^^^^^^^^^^^^^^^^^^^^^^^^^^^^^^^^\n",
      "  File \"/home/tianhaodong/anaconda3/lib/python3.12/site-packages/triton/runtime/jit.py\", line 662, in run\n",
      "    kernel = self.compile(\n",
      "             ^^^^^^^^^^^^^\n",
      "  File \"/home/tianhaodong/anaconda3/lib/python3.12/site-packages/triton/compiler/compiler.py\", line 282, in compile\n",
      "    next_module = compile_ir(module, metadata)\n",
      "                  ^^^^^^^^^^^^^^^^^^^^^^^^^^^^\n",
      "  File \"/home/tianhaodong/anaconda3/lib/python3.12/site-packages/triton/backends/nvidia/compiler.py\", line 320, in <lambda>\n",
      "    stages[\"cubin\"] = lambda src, metadata: self.make_cubin(src, metadata, options, self.capability)\n",
      "                                            ^^^^^^^^^^^^^^^^^^^^^^^^^^^^^^^^^^^^^^^^^^^^^^^^^^^^^^^^\n",
      "  File \"/home/tianhaodong/anaconda3/lib/python3.12/site-packages/triton/backends/nvidia/compiler.py\", line 292, in make_cubin\n",
      "    subprocess.run(cmd, shell=True, check=True)\n",
      "  File \"/home/tianhaodong/anaconda3/lib/python3.12/subprocess.py\", line 550, in run\n",
      "    stdout, stderr = process.communicate(input, timeout=timeout)\n",
      "                     ^^^^^^^^^^^^^^^^^^^^^^^^^^^^^^^^^^^^^^^^^^^\n",
      "  File \"/home/tianhaodong/anaconda3/lib/python3.12/subprocess.py\", line 1201, in communicate\n",
      "    self.wait()\n",
      "  File \"/home/tianhaodong/anaconda3/lib/python3.12/subprocess.py\", line 1264, in wait\n",
      "    return self._wait(timeout=timeout)\n",
      "           ^^^^^^^^^^^^^^^^^^^^^^^^^^^\n",
      "  File \"/home/tianhaodong/anaconda3/lib/python3.12/subprocess.py\", line 2053, in _wait\n",
      "    (pid, sts) = self._try_wait(0)\n",
      "                 ^^^^^^^^^^^^^^^^^\n",
      "  File \"/home/tianhaodong/anaconda3/lib/python3.12/subprocess.py\", line 2011, in _try_wait\n",
      "    (pid, sts) = os.waitpid(self.pid, wait_flags)\n",
      "                 ^^^^^^^^^^^^^^^^^^^^^^^^^^^^^^^^\n",
      "KeyboardInterrupt\n",
      "[W 2024-11-01 20:48:36,831] Trial 96 failed with value None.\n"
     ]
    },
    {
     "ename": "KeyboardInterrupt",
     "evalue": "",
     "output_type": "error",
     "traceback": [
      "\u001b[0;31m---------------------------------------------------------------------------\u001b[0m",
      "\u001b[0;31mKeyboardInterrupt\u001b[0m                         Traceback (most recent call last)",
      "Cell \u001b[0;32mIn[6], line 3\u001b[0m\n\u001b[1;32m      1\u001b[0m \u001b[38;5;28;01mfrom\u001b[39;00m \u001b[38;5;21;01msparsemm_kernels\u001b[39;00m\u001b[38;5;21;01m.\u001b[39;00m\u001b[38;5;21;01mdown_splitk\u001b[39;00m \u001b[38;5;28;01mimport\u001b[39;00m bench_sparsemm_down_splitk\n\u001b[0;32m----> 3\u001b[0m autotune(\n\u001b[1;32m      4\u001b[0m     bench_sparsemm_down_splitk,\n\u001b[1;32m      5\u001b[0m     (BATCH_SIZE, EMBED_DIM, HIDDEN_DIM, P, Q),\n\u001b[1;32m      6\u001b[0m     {\n\u001b[1;32m      7\u001b[0m         \u001b[38;5;124m\"\u001b[39m\u001b[38;5;124mBLOCK_SIZE_M\u001b[39m\u001b[38;5;124m\"\u001b[39m: [\u001b[38;5;241m16\u001b[39m, \u001b[38;5;241m32\u001b[39m, \u001b[38;5;241m64\u001b[39m, \u001b[38;5;241m128\u001b[39m, \u001b[38;5;241m256\u001b[39m],\n\u001b[1;32m      8\u001b[0m         \u001b[38;5;124m\"\u001b[39m\u001b[38;5;124mBLOCK_SIZE_Q\u001b[39m\u001b[38;5;124m\"\u001b[39m: [\u001b[38;5;241m16\u001b[39m, \u001b[38;5;241m32\u001b[39m, \u001b[38;5;241m64\u001b[39m, \u001b[38;5;241m128\u001b[39m, \u001b[38;5;241m256\u001b[39m],\n\u001b[1;32m      9\u001b[0m         \u001b[38;5;124m\"\u001b[39m\u001b[38;5;124mBLOCK_SIZE_N\u001b[39m\u001b[38;5;124m\"\u001b[39m: [\u001b[38;5;241m16\u001b[39m, \u001b[38;5;241m32\u001b[39m, \u001b[38;5;241m64\u001b[39m, \u001b[38;5;241m128\u001b[39m, \u001b[38;5;241m256\u001b[39m],\n\u001b[1;32m     10\u001b[0m         \u001b[38;5;124m\"\u001b[39m\u001b[38;5;124mGROUP_SIZE_Q\u001b[39m\u001b[38;5;124m\"\u001b[39m: [\u001b[38;5;241m1\u001b[39m, \u001b[38;5;241m2\u001b[39m, \u001b[38;5;241m4\u001b[39m, \u001b[38;5;241m8\u001b[39m, \u001b[38;5;241m16\u001b[39m],\n\u001b[1;32m     11\u001b[0m         \u001b[38;5;124m\"\u001b[39m\u001b[38;5;124mnum_stages\u001b[39m\u001b[38;5;124m\"\u001b[39m: [\u001b[38;5;241m2\u001b[39m, \u001b[38;5;241m3\u001b[39m, \u001b[38;5;241m4\u001b[39m, \u001b[38;5;241m5\u001b[39m],\n\u001b[1;32m     12\u001b[0m         \u001b[38;5;124m\"\u001b[39m\u001b[38;5;124mnum_warps\u001b[39m\u001b[38;5;124m\"\u001b[39m: [\u001b[38;5;241m4\u001b[39m, \u001b[38;5;241m8\u001b[39m],\n\u001b[1;32m     13\u001b[0m     },\n\u001b[1;32m     14\u001b[0m     n_trials\u001b[38;5;241m=\u001b[39m\u001b[38;5;241m100\u001b[39m\n\u001b[1;32m     15\u001b[0m )\n",
      "File \u001b[0;32m~/repo/sp-gated-mlp-kernels/sparsemm_kernels/autotune.py:11\u001b[0m, in \u001b[0;36mautotune\u001b[0;34m(bench_fn, args, param_ranges, n_trials)\u001b[0m\n\u001b[1;32m      8\u001b[0m     \u001b[38;5;28;01mreturn\u001b[39;00m bench_fn(\u001b[38;5;241m*\u001b[39margs, \u001b[38;5;241m*\u001b[39m\u001b[38;5;241m*\u001b[39mparams)\n\u001b[1;32m     10\u001b[0m study \u001b[38;5;241m=\u001b[39m optuna\u001b[38;5;241m.\u001b[39mcreate_study(direction\u001b[38;5;241m=\u001b[39m\u001b[38;5;124m\"\u001b[39m\u001b[38;5;124mminimize\u001b[39m\u001b[38;5;124m\"\u001b[39m)\n\u001b[0;32m---> 11\u001b[0m study\u001b[38;5;241m.\u001b[39moptimize(objective, n_trials\u001b[38;5;241m=\u001b[39mn_trials)\n\u001b[1;32m     12\u001b[0m \u001b[38;5;28;01mreturn\u001b[39;00m study\u001b[38;5;241m.\u001b[39mbest_params, study\u001b[38;5;241m.\u001b[39mbest_value\n",
      "File \u001b[0;32m~/anaconda3/lib/python3.12/site-packages/optuna/study/study.py:475\u001b[0m, in \u001b[0;36mStudy.optimize\u001b[0;34m(self, func, n_trials, timeout, n_jobs, catch, callbacks, gc_after_trial, show_progress_bar)\u001b[0m\n\u001b[1;32m    373\u001b[0m \u001b[38;5;28;01mdef\u001b[39;00m \u001b[38;5;21moptimize\u001b[39m(\n\u001b[1;32m    374\u001b[0m     \u001b[38;5;28mself\u001b[39m,\n\u001b[1;32m    375\u001b[0m     func: ObjectiveFuncType,\n\u001b[0;32m   (...)\u001b[0m\n\u001b[1;32m    382\u001b[0m     show_progress_bar: \u001b[38;5;28mbool\u001b[39m \u001b[38;5;241m=\u001b[39m \u001b[38;5;28;01mFalse\u001b[39;00m,\n\u001b[1;32m    383\u001b[0m ) \u001b[38;5;241m-\u001b[39m\u001b[38;5;241m>\u001b[39m \u001b[38;5;28;01mNone\u001b[39;00m:\n\u001b[1;32m    384\u001b[0m \u001b[38;5;250m    \u001b[39m\u001b[38;5;124;03m\"\"\"Optimize an objective function.\u001b[39;00m\n\u001b[1;32m    385\u001b[0m \n\u001b[1;32m    386\u001b[0m \u001b[38;5;124;03m    Optimization is done by choosing a suitable set of hyperparameter values from a given\u001b[39;00m\n\u001b[0;32m   (...)\u001b[0m\n\u001b[1;32m    473\u001b[0m \u001b[38;5;124;03m            If nested invocation of this method occurs.\u001b[39;00m\n\u001b[1;32m    474\u001b[0m \u001b[38;5;124;03m    \"\"\"\u001b[39;00m\n\u001b[0;32m--> 475\u001b[0m     _optimize(\n\u001b[1;32m    476\u001b[0m         study\u001b[38;5;241m=\u001b[39m\u001b[38;5;28mself\u001b[39m,\n\u001b[1;32m    477\u001b[0m         func\u001b[38;5;241m=\u001b[39mfunc,\n\u001b[1;32m    478\u001b[0m         n_trials\u001b[38;5;241m=\u001b[39mn_trials,\n\u001b[1;32m    479\u001b[0m         timeout\u001b[38;5;241m=\u001b[39mtimeout,\n\u001b[1;32m    480\u001b[0m         n_jobs\u001b[38;5;241m=\u001b[39mn_jobs,\n\u001b[1;32m    481\u001b[0m         catch\u001b[38;5;241m=\u001b[39m\u001b[38;5;28mtuple\u001b[39m(catch) \u001b[38;5;28;01mif\u001b[39;00m \u001b[38;5;28misinstance\u001b[39m(catch, Iterable) \u001b[38;5;28;01melse\u001b[39;00m (catch,),\n\u001b[1;32m    482\u001b[0m         callbacks\u001b[38;5;241m=\u001b[39mcallbacks,\n\u001b[1;32m    483\u001b[0m         gc_after_trial\u001b[38;5;241m=\u001b[39mgc_after_trial,\n\u001b[1;32m    484\u001b[0m         show_progress_bar\u001b[38;5;241m=\u001b[39mshow_progress_bar,\n\u001b[1;32m    485\u001b[0m     )\n",
      "File \u001b[0;32m~/anaconda3/lib/python3.12/site-packages/optuna/study/_optimize.py:63\u001b[0m, in \u001b[0;36m_optimize\u001b[0;34m(study, func, n_trials, timeout, n_jobs, catch, callbacks, gc_after_trial, show_progress_bar)\u001b[0m\n\u001b[1;32m     61\u001b[0m \u001b[38;5;28;01mtry\u001b[39;00m:\n\u001b[1;32m     62\u001b[0m     \u001b[38;5;28;01mif\u001b[39;00m n_jobs \u001b[38;5;241m==\u001b[39m \u001b[38;5;241m1\u001b[39m:\n\u001b[0;32m---> 63\u001b[0m         _optimize_sequential(\n\u001b[1;32m     64\u001b[0m             study,\n\u001b[1;32m     65\u001b[0m             func,\n\u001b[1;32m     66\u001b[0m             n_trials,\n\u001b[1;32m     67\u001b[0m             timeout,\n\u001b[1;32m     68\u001b[0m             catch,\n\u001b[1;32m     69\u001b[0m             callbacks,\n\u001b[1;32m     70\u001b[0m             gc_after_trial,\n\u001b[1;32m     71\u001b[0m             reseed_sampler_rng\u001b[38;5;241m=\u001b[39m\u001b[38;5;28;01mFalse\u001b[39;00m,\n\u001b[1;32m     72\u001b[0m             time_start\u001b[38;5;241m=\u001b[39m\u001b[38;5;28;01mNone\u001b[39;00m,\n\u001b[1;32m     73\u001b[0m             progress_bar\u001b[38;5;241m=\u001b[39mprogress_bar,\n\u001b[1;32m     74\u001b[0m         )\n\u001b[1;32m     75\u001b[0m     \u001b[38;5;28;01melse\u001b[39;00m:\n\u001b[1;32m     76\u001b[0m         \u001b[38;5;28;01mif\u001b[39;00m n_jobs \u001b[38;5;241m==\u001b[39m \u001b[38;5;241m-\u001b[39m\u001b[38;5;241m1\u001b[39m:\n",
      "File \u001b[0;32m~/anaconda3/lib/python3.12/site-packages/optuna/study/_optimize.py:160\u001b[0m, in \u001b[0;36m_optimize_sequential\u001b[0;34m(study, func, n_trials, timeout, catch, callbacks, gc_after_trial, reseed_sampler_rng, time_start, progress_bar)\u001b[0m\n\u001b[1;32m    157\u001b[0m         \u001b[38;5;28;01mbreak\u001b[39;00m\n\u001b[1;32m    159\u001b[0m \u001b[38;5;28;01mtry\u001b[39;00m:\n\u001b[0;32m--> 160\u001b[0m     frozen_trial \u001b[38;5;241m=\u001b[39m _run_trial(study, func, catch)\n\u001b[1;32m    161\u001b[0m \u001b[38;5;28;01mfinally\u001b[39;00m:\n\u001b[1;32m    162\u001b[0m     \u001b[38;5;66;03m# The following line mitigates memory problems that can be occurred in some\u001b[39;00m\n\u001b[1;32m    163\u001b[0m     \u001b[38;5;66;03m# environments (e.g., services that use computing containers such as GitHub Actions).\u001b[39;00m\n\u001b[1;32m    164\u001b[0m     \u001b[38;5;66;03m# Please refer to the following PR for further details:\u001b[39;00m\n\u001b[1;32m    165\u001b[0m     \u001b[38;5;66;03m# https://github.com/optuna/optuna/pull/325.\u001b[39;00m\n\u001b[1;32m    166\u001b[0m     \u001b[38;5;28;01mif\u001b[39;00m gc_after_trial:\n",
      "File \u001b[0;32m~/anaconda3/lib/python3.12/site-packages/optuna/study/_optimize.py:248\u001b[0m, in \u001b[0;36m_run_trial\u001b[0;34m(study, func, catch)\u001b[0m\n\u001b[1;32m    241\u001b[0m         \u001b[38;5;28;01massert\u001b[39;00m \u001b[38;5;28;01mFalse\u001b[39;00m, \u001b[38;5;124m\"\u001b[39m\u001b[38;5;124mShould not reach.\u001b[39m\u001b[38;5;124m\"\u001b[39m\n\u001b[1;32m    243\u001b[0m \u001b[38;5;28;01mif\u001b[39;00m (\n\u001b[1;32m    244\u001b[0m     frozen_trial\u001b[38;5;241m.\u001b[39mstate \u001b[38;5;241m==\u001b[39m TrialState\u001b[38;5;241m.\u001b[39mFAIL\n\u001b[1;32m    245\u001b[0m     \u001b[38;5;129;01mand\u001b[39;00m func_err \u001b[38;5;129;01mis\u001b[39;00m \u001b[38;5;129;01mnot\u001b[39;00m \u001b[38;5;28;01mNone\u001b[39;00m\n\u001b[1;32m    246\u001b[0m     \u001b[38;5;129;01mand\u001b[39;00m \u001b[38;5;129;01mnot\u001b[39;00m \u001b[38;5;28misinstance\u001b[39m(func_err, catch)\n\u001b[1;32m    247\u001b[0m ):\n\u001b[0;32m--> 248\u001b[0m     \u001b[38;5;28;01mraise\u001b[39;00m func_err\n\u001b[1;32m    249\u001b[0m \u001b[38;5;28;01mreturn\u001b[39;00m frozen_trial\n",
      "File \u001b[0;32m~/anaconda3/lib/python3.12/site-packages/optuna/study/_optimize.py:197\u001b[0m, in \u001b[0;36m_run_trial\u001b[0;34m(study, func, catch)\u001b[0m\n\u001b[1;32m    195\u001b[0m \u001b[38;5;28;01mwith\u001b[39;00m get_heartbeat_thread(trial\u001b[38;5;241m.\u001b[39m_trial_id, study\u001b[38;5;241m.\u001b[39m_storage):\n\u001b[1;32m    196\u001b[0m     \u001b[38;5;28;01mtry\u001b[39;00m:\n\u001b[0;32m--> 197\u001b[0m         value_or_values \u001b[38;5;241m=\u001b[39m func(trial)\n\u001b[1;32m    198\u001b[0m     \u001b[38;5;28;01mexcept\u001b[39;00m exceptions\u001b[38;5;241m.\u001b[39mTrialPruned \u001b[38;5;28;01mas\u001b[39;00m e:\n\u001b[1;32m    199\u001b[0m         \u001b[38;5;66;03m# TODO(mamu): Handle multi-objective cases.\u001b[39;00m\n\u001b[1;32m    200\u001b[0m         state \u001b[38;5;241m=\u001b[39m TrialState\u001b[38;5;241m.\u001b[39mPRUNED\n",
      "File \u001b[0;32m~/repo/sp-gated-mlp-kernels/sparsemm_kernels/autotune.py:8\u001b[0m, in \u001b[0;36mautotune.<locals>.objective\u001b[0;34m(trial)\u001b[0m\n\u001b[1;32m      6\u001b[0m \u001b[38;5;28;01mfor\u001b[39;00m param_name, param_range \u001b[38;5;129;01min\u001b[39;00m param_ranges\u001b[38;5;241m.\u001b[39mitems():\n\u001b[1;32m      7\u001b[0m     params[param_name] \u001b[38;5;241m=\u001b[39m trial\u001b[38;5;241m.\u001b[39msuggest_categorical(param_name, param_range)\n\u001b[0;32m----> 8\u001b[0m \u001b[38;5;28;01mreturn\u001b[39;00m bench_fn(\u001b[38;5;241m*\u001b[39margs, \u001b[38;5;241m*\u001b[39m\u001b[38;5;241m*\u001b[39mparams)\n",
      "File \u001b[0;32m~/repo/sp-gated-mlp-kernels/sparsemm_kernels/down_splitk.py:111\u001b[0m, in \u001b[0;36mbench_sparsemm_down_splitk\u001b[0;34m(batch_size, embed_dim, hidden_dim, P, Q, BLOCK_SIZE_M, BLOCK_SIZE_Q, BLOCK_SIZE_N, GROUP_SIZE_Q, num_stages, num_warps)\u001b[0m\n\u001b[1;32m    108\u001b[0m IDX \u001b[38;5;241m=\u001b[39m torch\u001b[38;5;241m.\u001b[39msort(IDX, dim\u001b[38;5;241m=\u001b[39m\u001b[38;5;241m1\u001b[39m)[\u001b[38;5;241m0\u001b[39m]\n\u001b[1;32m    110\u001b[0m \u001b[38;5;28;01mtry\u001b[39;00m:\n\u001b[0;32m--> 111\u001b[0m     ms \u001b[38;5;241m=\u001b[39m triton\u001b[38;5;241m.\u001b[39mtesting\u001b[38;5;241m.\u001b[39mdo_bench(\u001b[38;5;28;01mlambda\u001b[39;00m: sparsemm_down_splitk(\n\u001b[1;32m    112\u001b[0m         A, B, IDX, \u001b[38;5;28;01mTrue\u001b[39;00m,\n\u001b[1;32m    113\u001b[0m         BLOCK_SIZE_M, BLOCK_SIZE_Q, BLOCK_SIZE_N, GROUP_SIZE_Q,\n\u001b[1;32m    114\u001b[0m         num_stages, num_warps\n\u001b[1;32m    115\u001b[0m     ))\n\u001b[1;32m    116\u001b[0m     \u001b[38;5;28;01mreturn\u001b[39;00m ms\n\u001b[1;32m    117\u001b[0m \u001b[38;5;28;01mexcept\u001b[39;00m \u001b[38;5;167;01mException\u001b[39;00m \u001b[38;5;28;01mas\u001b[39;00m e:\n",
      "File \u001b[0;32m~/anaconda3/lib/python3.12/site-packages/triton/testing.py:106\u001b[0m, in \u001b[0;36mdo_bench\u001b[0;34m(fn, warmup, rep, grad_to_none, quantiles, fast_flush, return_mode, device_type)\u001b[0m\n\u001b[1;32m    102\u001b[0m \u001b[38;5;28;01mimport\u001b[39;00m \u001b[38;5;21;01mtorch\u001b[39;00m\n\u001b[1;32m    104\u001b[0m di \u001b[38;5;241m=\u001b[39m torch\u001b[38;5;241m.\u001b[39m_dynamo\u001b[38;5;241m.\u001b[39mdevice_interface\u001b[38;5;241m.\u001b[39mget_interface_for_device(device_type)\n\u001b[0;32m--> 106\u001b[0m fn()\n\u001b[1;32m    107\u001b[0m di\u001b[38;5;241m.\u001b[39msynchronize()\n\u001b[1;32m    109\u001b[0m \u001b[38;5;66;03m# We maintain a buffer of 256 MB that we clear\u001b[39;00m\n\u001b[1;32m    110\u001b[0m \u001b[38;5;66;03m# before each kernel call to make sure that the L2\u001b[39;00m\n\u001b[1;32m    111\u001b[0m \u001b[38;5;66;03m# doesn't contain any input data before the run\u001b[39;00m\n",
      "File \u001b[0;32m~/repo/sp-gated-mlp-kernels/sparsemm_kernels/down_splitk.py:111\u001b[0m, in \u001b[0;36mbench_sparsemm_down_splitk.<locals>.<lambda>\u001b[0;34m()\u001b[0m\n\u001b[1;32m    108\u001b[0m IDX \u001b[38;5;241m=\u001b[39m torch\u001b[38;5;241m.\u001b[39msort(IDX, dim\u001b[38;5;241m=\u001b[39m\u001b[38;5;241m1\u001b[39m)[\u001b[38;5;241m0\u001b[39m]\n\u001b[1;32m    110\u001b[0m \u001b[38;5;28;01mtry\u001b[39;00m:\n\u001b[0;32m--> 111\u001b[0m     ms \u001b[38;5;241m=\u001b[39m triton\u001b[38;5;241m.\u001b[39mtesting\u001b[38;5;241m.\u001b[39mdo_bench(\u001b[38;5;28;01mlambda\u001b[39;00m: sparsemm_down_splitk(\n\u001b[1;32m    112\u001b[0m         A, B, IDX, \u001b[38;5;28;01mTrue\u001b[39;00m,\n\u001b[1;32m    113\u001b[0m         BLOCK_SIZE_M, BLOCK_SIZE_Q, BLOCK_SIZE_N, GROUP_SIZE_Q,\n\u001b[1;32m    114\u001b[0m         num_stages, num_warps\n\u001b[1;32m    115\u001b[0m     ))\n\u001b[1;32m    116\u001b[0m     \u001b[38;5;28;01mreturn\u001b[39;00m ms\n\u001b[1;32m    117\u001b[0m \u001b[38;5;28;01mexcept\u001b[39;00m \u001b[38;5;167;01mException\u001b[39;00m \u001b[38;5;28;01mas\u001b[39;00m e:\n",
      "File \u001b[0;32m~/repo/sp-gated-mlp-kernels/sparsemm_kernels/down_splitk.py:87\u001b[0m, in \u001b[0;36msparsemm_down_splitk\u001b[0;34m(A, B, IDX, tune, BLOCK_SIZE_M, BLOCK_SIZE_Q, BLOCK_SIZE_N, GROUP_SIZE_Q, num_stages, num_warps)\u001b[0m\n\u001b[1;32m     84\u001b[0m     \u001b[38;5;28;01massert\u001b[39;00m \u001b[38;5;28;01mFalse\u001b[39;00m, \u001b[38;5;124m\"\u001b[39m\u001b[38;5;124mTuned operators are not yet supported\u001b[39m\u001b[38;5;124m\"\u001b[39m\n\u001b[1;32m     86\u001b[0m grid \u001b[38;5;241m=\u001b[39m (triton\u001b[38;5;241m.\u001b[39mcdiv(Q, BLOCK_SIZE_Q) \u001b[38;5;241m*\u001b[39m triton\u001b[38;5;241m.\u001b[39mcdiv(N, BLOCK_SIZE_N), triton\u001b[38;5;241m.\u001b[39mcdiv(M, BLOCK_SIZE_M))\n\u001b[0;32m---> 87\u001b[0m sparsemm_down_splitk_kernel[grid](\n\u001b[1;32m     88\u001b[0m     A, B, C, IDX,\n\u001b[1;32m     89\u001b[0m     M, N, K, P, Q,\n\u001b[1;32m     90\u001b[0m     A\u001b[38;5;241m.\u001b[39mstride(\u001b[38;5;241m0\u001b[39m), A\u001b[38;5;241m.\u001b[39mstride(\u001b[38;5;241m1\u001b[39m),\n\u001b[1;32m     91\u001b[0m     B\u001b[38;5;241m.\u001b[39mstride(\u001b[38;5;241m0\u001b[39m), B\u001b[38;5;241m.\u001b[39mstride(\u001b[38;5;241m1\u001b[39m),\n\u001b[1;32m     92\u001b[0m     C\u001b[38;5;241m.\u001b[39mstride(\u001b[38;5;241m0\u001b[39m), C\u001b[38;5;241m.\u001b[39mstride(\u001b[38;5;241m1\u001b[39m),\n\u001b[1;32m     93\u001b[0m     IDX\u001b[38;5;241m.\u001b[39mstride(\u001b[38;5;241m0\u001b[39m), IDX\u001b[38;5;241m.\u001b[39mstride(\u001b[38;5;241m1\u001b[39m),\n\u001b[1;32m     94\u001b[0m     BLOCK_SIZE_M, BLOCK_SIZE_Q, BLOCK_SIZE_N, GROUP_SIZE_Q,\n\u001b[1;32m     95\u001b[0m     num_stages\u001b[38;5;241m=\u001b[39mnum_stages, num_warps\u001b[38;5;241m=\u001b[39mnum_warps\n\u001b[1;32m     96\u001b[0m )\n\u001b[1;32m     97\u001b[0m \u001b[38;5;28;01mreturn\u001b[39;00m C\n",
      "File \u001b[0;32m~/anaconda3/lib/python3.12/site-packages/triton/runtime/jit.py:345\u001b[0m, in \u001b[0;36mKernelInterface.__getitem__.<locals>.<lambda>\u001b[0;34m(*args, **kwargs)\u001b[0m\n\u001b[1;32m    339\u001b[0m \u001b[38;5;28;01mdef\u001b[39;00m \u001b[38;5;21m__getitem__\u001b[39m(\u001b[38;5;28mself\u001b[39m, grid) \u001b[38;5;241m-\u001b[39m\u001b[38;5;241m>\u001b[39m T:\n\u001b[1;32m    340\u001b[0m \u001b[38;5;250m    \u001b[39m\u001b[38;5;124;03m\"\"\"\u001b[39;00m\n\u001b[1;32m    341\u001b[0m \u001b[38;5;124;03m    A JIT function is launched with: fn[grid](*args, **kwargs).\u001b[39;00m\n\u001b[1;32m    342\u001b[0m \u001b[38;5;124;03m    Hence JITFunction.__getitem__ returns a callable proxy that\u001b[39;00m\n\u001b[1;32m    343\u001b[0m \u001b[38;5;124;03m    memorizes the grid.\u001b[39;00m\n\u001b[1;32m    344\u001b[0m \u001b[38;5;124;03m    \"\"\"\u001b[39;00m\n\u001b[0;32m--> 345\u001b[0m     \u001b[38;5;28;01mreturn\u001b[39;00m \u001b[38;5;28;01mlambda\u001b[39;00m \u001b[38;5;241m*\u001b[39margs, \u001b[38;5;241m*\u001b[39m\u001b[38;5;241m*\u001b[39mkwargs: \u001b[38;5;28mself\u001b[39m\u001b[38;5;241m.\u001b[39mrun(grid\u001b[38;5;241m=\u001b[39mgrid, warmup\u001b[38;5;241m=\u001b[39m\u001b[38;5;28;01mFalse\u001b[39;00m, \u001b[38;5;241m*\u001b[39margs, \u001b[38;5;241m*\u001b[39m\u001b[38;5;241m*\u001b[39mkwargs)\n",
      "File \u001b[0;32m~/anaconda3/lib/python3.12/site-packages/triton/runtime/jit.py:662\u001b[0m, in \u001b[0;36mJITFunction.run\u001b[0;34m(self, grid, warmup, *args, **kwargs)\u001b[0m\n\u001b[1;32m    660\u001b[0m     \u001b[38;5;66;03m# compile the kernel\u001b[39;00m\n\u001b[1;32m    661\u001b[0m     src \u001b[38;5;241m=\u001b[39m \u001b[38;5;28mself\u001b[39m\u001b[38;5;241m.\u001b[39mASTSource(\u001b[38;5;28mself\u001b[39m, signature, constants, configs[\u001b[38;5;241m0\u001b[39m])\n\u001b[0;32m--> 662\u001b[0m     kernel \u001b[38;5;241m=\u001b[39m \u001b[38;5;28mself\u001b[39m\u001b[38;5;241m.\u001b[39mcompile(\n\u001b[1;32m    663\u001b[0m         src,\n\u001b[1;32m    664\u001b[0m         target\u001b[38;5;241m=\u001b[39mtarget,\n\u001b[1;32m    665\u001b[0m         options\u001b[38;5;241m=\u001b[39moptions\u001b[38;5;241m.\u001b[39m\u001b[38;5;18m__dict__\u001b[39m,\n\u001b[1;32m    666\u001b[0m     )\n\u001b[1;32m    667\u001b[0m     \u001b[38;5;28mself\u001b[39m\u001b[38;5;241m.\u001b[39mcache[device][key] \u001b[38;5;241m=\u001b[39m kernel\n\u001b[1;32m    669\u001b[0m \u001b[38;5;66;03m# Check that used global values have not changed.\u001b[39;00m\n",
      "File \u001b[0;32m~/anaconda3/lib/python3.12/site-packages/triton/compiler/compiler.py:282\u001b[0m, in \u001b[0;36mcompile\u001b[0;34m(src, target, options)\u001b[0m\n\u001b[1;32m    280\u001b[0m use_ttgir_loc \u001b[38;5;241m=\u001b[39m os\u001b[38;5;241m.\u001b[39menviron\u001b[38;5;241m.\u001b[39mget(\u001b[38;5;124m\"\u001b[39m\u001b[38;5;124mUSE_TTGIR_LOC\u001b[39m\u001b[38;5;124m\"\u001b[39m, \u001b[38;5;124m\"\u001b[39m\u001b[38;5;124m0\u001b[39m\u001b[38;5;124m\"\u001b[39m) \u001b[38;5;241m==\u001b[39m \u001b[38;5;124m\"\u001b[39m\u001b[38;5;124m1\u001b[39m\u001b[38;5;124m\"\u001b[39m\n\u001b[1;32m    281\u001b[0m \u001b[38;5;28;01mfor\u001b[39;00m ext, compile_ir \u001b[38;5;129;01min\u001b[39;00m \u001b[38;5;28mlist\u001b[39m(stages\u001b[38;5;241m.\u001b[39mitems())[first_stage:]:\n\u001b[0;32m--> 282\u001b[0m     next_module \u001b[38;5;241m=\u001b[39m compile_ir(module, metadata)\n\u001b[1;32m    283\u001b[0m     ir_filename \u001b[38;5;241m=\u001b[39m \u001b[38;5;124mf\u001b[39m\u001b[38;5;124m\"\u001b[39m\u001b[38;5;132;01m{\u001b[39;00msrc\u001b[38;5;241m.\u001b[39mname\u001b[38;5;132;01m}\u001b[39;00m\u001b[38;5;124m.\u001b[39m\u001b[38;5;132;01m{\u001b[39;00mext\u001b[38;5;132;01m}\u001b[39;00m\u001b[38;5;124m\"\u001b[39m\n\u001b[1;32m    284\u001b[0m     metadata_group[ir_filename] \u001b[38;5;241m=\u001b[39m fn_cache_manager\u001b[38;5;241m.\u001b[39mput(next_module, ir_filename)\n",
      "File \u001b[0;32m~/anaconda3/lib/python3.12/site-packages/triton/backends/nvidia/compiler.py:320\u001b[0m, in \u001b[0;36mCUDABackend.add_stages.<locals>.<lambda>\u001b[0;34m(src, metadata)\u001b[0m\n\u001b[1;32m    318\u001b[0m stages[\u001b[38;5;124m\"\u001b[39m\u001b[38;5;124mllir\u001b[39m\u001b[38;5;124m\"\u001b[39m] \u001b[38;5;241m=\u001b[39m \u001b[38;5;28;01mlambda\u001b[39;00m src, metadata: \u001b[38;5;28mself\u001b[39m\u001b[38;5;241m.\u001b[39mmake_llir(src, metadata, options, \u001b[38;5;28mself\u001b[39m\u001b[38;5;241m.\u001b[39mcapability)\n\u001b[1;32m    319\u001b[0m stages[\u001b[38;5;124m\"\u001b[39m\u001b[38;5;124mptx\u001b[39m\u001b[38;5;124m\"\u001b[39m] \u001b[38;5;241m=\u001b[39m \u001b[38;5;28;01mlambda\u001b[39;00m src, metadata: \u001b[38;5;28mself\u001b[39m\u001b[38;5;241m.\u001b[39mmake_ptx(src, metadata, options, \u001b[38;5;28mself\u001b[39m\u001b[38;5;241m.\u001b[39mcapability)\n\u001b[0;32m--> 320\u001b[0m stages[\u001b[38;5;124m\"\u001b[39m\u001b[38;5;124mcubin\u001b[39m\u001b[38;5;124m\"\u001b[39m] \u001b[38;5;241m=\u001b[39m \u001b[38;5;28;01mlambda\u001b[39;00m src, metadata: \u001b[38;5;28mself\u001b[39m\u001b[38;5;241m.\u001b[39mmake_cubin(src, metadata, options, \u001b[38;5;28mself\u001b[39m\u001b[38;5;241m.\u001b[39mcapability)\n",
      "File \u001b[0;32m~/anaconda3/lib/python3.12/site-packages/triton/backends/nvidia/compiler.py:292\u001b[0m, in \u001b[0;36mCUDABackend.make_cubin\u001b[0;34m(src, metadata, opt, capability)\u001b[0m\n\u001b[1;32m    289\u001b[0m     cmd \u001b[38;5;241m=\u001b[39m \u001b[38;5;124mf\u001b[39m\u001b[38;5;124m'\u001b[39m\u001b[38;5;132;01m{\u001b[39;00mptxas\u001b[38;5;132;01m}\u001b[39;00m\u001b[38;5;132;01m{\u001b[39;00mline_info\u001b[38;5;132;01m}\u001b[39;00m\u001b[38;5;132;01m{\u001b[39;00mfmad\u001b[38;5;132;01m}\u001b[39;00m\u001b[38;5;124m -v --gpu-name=sm_\u001b[39m\u001b[38;5;132;01m{\u001b[39;00mcapability\u001b[38;5;132;01m}\u001b[39;00m\u001b[38;5;132;01m{\u001b[39;00msuffix\u001b[38;5;132;01m}\u001b[39;00m\u001b[38;5;132;01m{\u001b[39;00mfsrc\u001b[38;5;241m.\u001b[39mname\u001b[38;5;132;01m}\u001b[39;00m\u001b[38;5;124m -o \u001b[39m\u001b[38;5;132;01m{\u001b[39;00mfbin\u001b[38;5;132;01m}\u001b[39;00m\u001b[38;5;124m 2> \u001b[39m\u001b[38;5;132;01m{\u001b[39;00mflog\u001b[38;5;241m.\u001b[39mname\u001b[38;5;132;01m}\u001b[39;00m\u001b[38;5;124m'\u001b[39m\n\u001b[1;32m    291\u001b[0m \u001b[38;5;28;01mtry\u001b[39;00m:\n\u001b[0;32m--> 292\u001b[0m     subprocess\u001b[38;5;241m.\u001b[39mrun(cmd, shell\u001b[38;5;241m=\u001b[39m\u001b[38;5;28;01mTrue\u001b[39;00m, check\u001b[38;5;241m=\u001b[39m\u001b[38;5;28;01mTrue\u001b[39;00m)\n\u001b[1;32m    293\u001b[0m \u001b[38;5;28;01mexcept\u001b[39;00m subprocess\u001b[38;5;241m.\u001b[39mCalledProcessError \u001b[38;5;28;01mas\u001b[39;00m e:\n\u001b[1;32m    294\u001b[0m     \u001b[38;5;28;01mwith\u001b[39;00m \u001b[38;5;28mopen\u001b[39m(flog\u001b[38;5;241m.\u001b[39mname) \u001b[38;5;28;01mas\u001b[39;00m log_file:\n",
      "File \u001b[0;32m~/anaconda3/lib/python3.12/subprocess.py:550\u001b[0m, in \u001b[0;36mrun\u001b[0;34m(input, capture_output, timeout, check, *popenargs, **kwargs)\u001b[0m\n\u001b[1;32m    548\u001b[0m \u001b[38;5;28;01mwith\u001b[39;00m Popen(\u001b[38;5;241m*\u001b[39mpopenargs, \u001b[38;5;241m*\u001b[39m\u001b[38;5;241m*\u001b[39mkwargs) \u001b[38;5;28;01mas\u001b[39;00m process:\n\u001b[1;32m    549\u001b[0m     \u001b[38;5;28;01mtry\u001b[39;00m:\n\u001b[0;32m--> 550\u001b[0m         stdout, stderr \u001b[38;5;241m=\u001b[39m process\u001b[38;5;241m.\u001b[39mcommunicate(\u001b[38;5;28minput\u001b[39m, timeout\u001b[38;5;241m=\u001b[39mtimeout)\n\u001b[1;32m    551\u001b[0m     \u001b[38;5;28;01mexcept\u001b[39;00m TimeoutExpired \u001b[38;5;28;01mas\u001b[39;00m exc:\n\u001b[1;32m    552\u001b[0m         process\u001b[38;5;241m.\u001b[39mkill()\n",
      "File \u001b[0;32m~/anaconda3/lib/python3.12/subprocess.py:1201\u001b[0m, in \u001b[0;36mPopen.communicate\u001b[0;34m(self, input, timeout)\u001b[0m\n\u001b[1;32m   1199\u001b[0m         stderr \u001b[38;5;241m=\u001b[39m \u001b[38;5;28mself\u001b[39m\u001b[38;5;241m.\u001b[39mstderr\u001b[38;5;241m.\u001b[39mread()\n\u001b[1;32m   1200\u001b[0m         \u001b[38;5;28mself\u001b[39m\u001b[38;5;241m.\u001b[39mstderr\u001b[38;5;241m.\u001b[39mclose()\n\u001b[0;32m-> 1201\u001b[0m     \u001b[38;5;28mself\u001b[39m\u001b[38;5;241m.\u001b[39mwait()\n\u001b[1;32m   1202\u001b[0m \u001b[38;5;28;01melse\u001b[39;00m:\n\u001b[1;32m   1203\u001b[0m     \u001b[38;5;28;01mif\u001b[39;00m timeout \u001b[38;5;129;01mis\u001b[39;00m \u001b[38;5;129;01mnot\u001b[39;00m \u001b[38;5;28;01mNone\u001b[39;00m:\n",
      "File \u001b[0;32m~/anaconda3/lib/python3.12/subprocess.py:1264\u001b[0m, in \u001b[0;36mPopen.wait\u001b[0;34m(self, timeout)\u001b[0m\n\u001b[1;32m   1262\u001b[0m     endtime \u001b[38;5;241m=\u001b[39m _time() \u001b[38;5;241m+\u001b[39m timeout\n\u001b[1;32m   1263\u001b[0m \u001b[38;5;28;01mtry\u001b[39;00m:\n\u001b[0;32m-> 1264\u001b[0m     \u001b[38;5;28;01mreturn\u001b[39;00m \u001b[38;5;28mself\u001b[39m\u001b[38;5;241m.\u001b[39m_wait(timeout\u001b[38;5;241m=\u001b[39mtimeout)\n\u001b[1;32m   1265\u001b[0m \u001b[38;5;28;01mexcept\u001b[39;00m \u001b[38;5;167;01mKeyboardInterrupt\u001b[39;00m:\n\u001b[1;32m   1266\u001b[0m     \u001b[38;5;66;03m# https://bugs.python.org/issue25942\u001b[39;00m\n\u001b[1;32m   1267\u001b[0m     \u001b[38;5;66;03m# The first keyboard interrupt waits briefly for the child to\u001b[39;00m\n\u001b[1;32m   1268\u001b[0m     \u001b[38;5;66;03m# exit under the common assumption that it also received the ^C\u001b[39;00m\n\u001b[1;32m   1269\u001b[0m     \u001b[38;5;66;03m# generated SIGINT and will exit rapidly.\u001b[39;00m\n\u001b[1;32m   1270\u001b[0m     \u001b[38;5;28;01mif\u001b[39;00m timeout \u001b[38;5;129;01mis\u001b[39;00m \u001b[38;5;129;01mnot\u001b[39;00m \u001b[38;5;28;01mNone\u001b[39;00m:\n",
      "File \u001b[0;32m~/anaconda3/lib/python3.12/subprocess.py:2053\u001b[0m, in \u001b[0;36mPopen._wait\u001b[0;34m(self, timeout)\u001b[0m\n\u001b[1;32m   2051\u001b[0m \u001b[38;5;28;01mif\u001b[39;00m \u001b[38;5;28mself\u001b[39m\u001b[38;5;241m.\u001b[39mreturncode \u001b[38;5;129;01mis\u001b[39;00m \u001b[38;5;129;01mnot\u001b[39;00m \u001b[38;5;28;01mNone\u001b[39;00m:\n\u001b[1;32m   2052\u001b[0m     \u001b[38;5;28;01mbreak\u001b[39;00m  \u001b[38;5;66;03m# Another thread waited.\u001b[39;00m\n\u001b[0;32m-> 2053\u001b[0m (pid, sts) \u001b[38;5;241m=\u001b[39m \u001b[38;5;28mself\u001b[39m\u001b[38;5;241m.\u001b[39m_try_wait(\u001b[38;5;241m0\u001b[39m)\n\u001b[1;32m   2054\u001b[0m \u001b[38;5;66;03m# Check the pid and loop as waitpid has been known to\u001b[39;00m\n\u001b[1;32m   2055\u001b[0m \u001b[38;5;66;03m# return 0 even without WNOHANG in odd situations.\u001b[39;00m\n\u001b[1;32m   2056\u001b[0m \u001b[38;5;66;03m# http://bugs.python.org/issue14396.\u001b[39;00m\n\u001b[1;32m   2057\u001b[0m \u001b[38;5;28;01mif\u001b[39;00m pid \u001b[38;5;241m==\u001b[39m \u001b[38;5;28mself\u001b[39m\u001b[38;5;241m.\u001b[39mpid:\n",
      "File \u001b[0;32m~/anaconda3/lib/python3.12/subprocess.py:2011\u001b[0m, in \u001b[0;36mPopen._try_wait\u001b[0;34m(self, wait_flags)\u001b[0m\n\u001b[1;32m   2009\u001b[0m \u001b[38;5;250m\u001b[39m\u001b[38;5;124;03m\"\"\"All callers to this function MUST hold self._waitpid_lock.\"\"\"\u001b[39;00m\n\u001b[1;32m   2010\u001b[0m \u001b[38;5;28;01mtry\u001b[39;00m:\n\u001b[0;32m-> 2011\u001b[0m     (pid, sts) \u001b[38;5;241m=\u001b[39m os\u001b[38;5;241m.\u001b[39mwaitpid(\u001b[38;5;28mself\u001b[39m\u001b[38;5;241m.\u001b[39mpid, wait_flags)\n\u001b[1;32m   2012\u001b[0m \u001b[38;5;28;01mexcept\u001b[39;00m \u001b[38;5;167;01mChildProcessError\u001b[39;00m:\n\u001b[1;32m   2013\u001b[0m     \u001b[38;5;66;03m# This happens if SIGCLD is set to be ignored or waiting\u001b[39;00m\n\u001b[1;32m   2014\u001b[0m     \u001b[38;5;66;03m# for child processes has otherwise been disabled for our\u001b[39;00m\n\u001b[1;32m   2015\u001b[0m     \u001b[38;5;66;03m# process.  This child is dead, we can't get the status.\u001b[39;00m\n\u001b[1;32m   2016\u001b[0m     pid \u001b[38;5;241m=\u001b[39m \u001b[38;5;28mself\u001b[39m\u001b[38;5;241m.\u001b[39mpid\n",
      "\u001b[0;31mKeyboardInterrupt\u001b[0m: "
     ]
    }
   ],
   "source": [
    "from sparsemm_kernels.down_splitk import bench_sparsemm_down_splitk\n",
    "\n",
    "autotune(\n",
    "    bench_sparsemm_down_splitk,\n",
    "    (BATCH_SIZE, EMBED_DIM, HIDDEN_DIM, P, Q),\n",
    "    {\n",
    "        \"BLOCK_SIZE_M\": [16, 32, 64, 128, 256],\n",
    "        \"BLOCK_SIZE_Q\": [16, 32, 64, 128, 256],\n",
    "        \"BLOCK_SIZE_N\": [16, 32, 64, 128, 256],\n",
    "        \"GROUP_SIZE_Q\": [1, 2, 4, 8, 16],\n",
    "        \"num_stages\": [2, 3, 4, 5],\n",
    "        \"num_warps\": [4, 8],\n",
    "    },\n",
    "    n_trials=100\n",
    ")"
   ]
  }
 ],
 "metadata": {
  "kernelspec": {
   "display_name": "base",
   "language": "python",
   "name": "python3"
  },
  "language_info": {
   "codemirror_mode": {
    "name": "ipython",
    "version": 3
   },
   "file_extension": ".py",
   "mimetype": "text/x-python",
   "name": "python",
   "nbconvert_exporter": "python",
   "pygments_lexer": "ipython3",
   "version": "3.12.4"
  }
 },
 "nbformat": 4,
 "nbformat_minor": 2
}
